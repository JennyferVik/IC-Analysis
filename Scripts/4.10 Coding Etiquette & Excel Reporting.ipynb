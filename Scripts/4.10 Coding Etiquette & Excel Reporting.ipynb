{
 "cells": [
  {
   "cell_type": "markdown",
   "id": "48dc3afc",
   "metadata": {},
   "source": [
    "### 4.10 Instacard Data Analysis"
   ]
  },
  {
   "cell_type": "markdown",
   "id": "ed89e909",
   "metadata": {},
   "source": [
    "#### Contents\n",
    "Importing libraries & data\n",
    "Dropping PII information\n",
    "Region llags and analysis\n",
    "Customer profiling\n",
    "Visualizations\n",
    "Customer profile aggregates\n",
    "Customer and regional comparison and visualization"
   ]
  },
  {
   "cell_type": "markdown",
   "id": "669c678f",
   "metadata": {},
   "source": [
    "### Step 1"
   ]
  },
  {
   "cell_type": "markdown",
   "id": "cade4801",
   "metadata": {},
   "source": [
    "### Importing libraries and data"
   ]
  },
  {
   "cell_type": "code",
   "execution_count": 1,
   "id": "43c86f31",
   "metadata": {},
   "outputs": [],
   "source": [
    "# libraries"
   ]
  },
  {
   "cell_type": "code",
   "execution_count": 2,
   "id": "e702bc08",
   "metadata": {},
   "outputs": [],
   "source": [
    "import pandas as pd\n",
    "import numpy as np\n",
    "import os\n",
    "import matplotlib.pyplot as plt\n",
    "import seaborn as sns\n",
    "import scipy"
   ]
  },
  {
   "cell_type": "code",
   "execution_count": 3,
   "id": "5f066c5c",
   "metadata": {},
   "outputs": [],
   "source": [
    "# data\n",
    "path = r'/Users/jennyfevik/Desktop/IC Basket Analysis'"
   ]
  },
  {
   "cell_type": "code",
   "execution_count": 4,
   "id": "4cd2b52e",
   "metadata": {},
   "outputs": [],
   "source": [
    "ic_data = pd.read_pickle(os.path.join(path, 'Data', 'Prepared', 'ic_data.pkl'))"
   ]
  },
  {
   "cell_type": "code",
   "execution_count": 5,
   "id": "d5b81251",
   "metadata": {},
   "outputs": [
    {
     "data": {
      "text/html": [
       "<div>\n",
       "<style scoped>\n",
       "    .dataframe tbody tr th:only-of-type {\n",
       "        vertical-align: middle;\n",
       "    }\n",
       "\n",
       "    .dataframe tbody tr th {\n",
       "        vertical-align: top;\n",
       "    }\n",
       "\n",
       "    .dataframe thead th {\n",
       "        text-align: right;\n",
       "    }\n",
       "</style>\n",
       "<table border=\"1\" class=\"dataframe\">\n",
       "  <thead>\n",
       "    <tr style=\"text-align: right;\">\n",
       "      <th></th>\n",
       "      <th>order_id</th>\n",
       "      <th>user_id</th>\n",
       "      <th>order_number</th>\n",
       "      <th>orders_day_of_week</th>\n",
       "      <th>order_hour_of_day</th>\n",
       "      <th>days_since_prior_order</th>\n",
       "      <th>product_id</th>\n",
       "      <th>add_to_cart_order</th>\n",
       "      <th>reordered</th>\n",
       "      <th>_merge</th>\n",
       "      <th>...</th>\n",
       "      <th>user_frequency</th>\n",
       "      <th>first_name</th>\n",
       "      <th>last_name</th>\n",
       "      <th>Gender</th>\n",
       "      <th>STATE</th>\n",
       "      <th>Age</th>\n",
       "      <th>date_joined</th>\n",
       "      <th>number_dependants</th>\n",
       "      <th>fam_status</th>\n",
       "      <th>income</th>\n",
       "    </tr>\n",
       "  </thead>\n",
       "  <tbody>\n",
       "    <tr>\n",
       "      <th>0</th>\n",
       "      <td>2539329.0</td>\n",
       "      <td>1.0</td>\n",
       "      <td>1.0</td>\n",
       "      <td>2.0</td>\n",
       "      <td>8.0</td>\n",
       "      <td>NaN</td>\n",
       "      <td>196</td>\n",
       "      <td>1.0</td>\n",
       "      <td>0.0</td>\n",
       "      <td>both</td>\n",
       "      <td>...</td>\n",
       "      <td>NaN</td>\n",
       "      <td>Linda</td>\n",
       "      <td>Nguyen</td>\n",
       "      <td>Female</td>\n",
       "      <td>Alabama</td>\n",
       "      <td>31.0</td>\n",
       "      <td>2/17/2019</td>\n",
       "      <td>3.0</td>\n",
       "      <td>married</td>\n",
       "      <td>40423.0</td>\n",
       "    </tr>\n",
       "    <tr>\n",
       "      <th>1</th>\n",
       "      <td>2398795.0</td>\n",
       "      <td>1.0</td>\n",
       "      <td>2.0</td>\n",
       "      <td>3.0</td>\n",
       "      <td>7.0</td>\n",
       "      <td>15.0</td>\n",
       "      <td>196</td>\n",
       "      <td>1.0</td>\n",
       "      <td>1.0</td>\n",
       "      <td>both</td>\n",
       "      <td>...</td>\n",
       "      <td>Non-frequent</td>\n",
       "      <td>Linda</td>\n",
       "      <td>Nguyen</td>\n",
       "      <td>Female</td>\n",
       "      <td>Alabama</td>\n",
       "      <td>31.0</td>\n",
       "      <td>2/17/2019</td>\n",
       "      <td>3.0</td>\n",
       "      <td>married</td>\n",
       "      <td>40423.0</td>\n",
       "    </tr>\n",
       "    <tr>\n",
       "      <th>2</th>\n",
       "      <td>473747.0</td>\n",
       "      <td>1.0</td>\n",
       "      <td>3.0</td>\n",
       "      <td>3.0</td>\n",
       "      <td>12.0</td>\n",
       "      <td>21.0</td>\n",
       "      <td>196</td>\n",
       "      <td>1.0</td>\n",
       "      <td>1.0</td>\n",
       "      <td>both</td>\n",
       "      <td>...</td>\n",
       "      <td>Regular customer</td>\n",
       "      <td>Linda</td>\n",
       "      <td>Nguyen</td>\n",
       "      <td>Female</td>\n",
       "      <td>Alabama</td>\n",
       "      <td>31.0</td>\n",
       "      <td>2/17/2019</td>\n",
       "      <td>3.0</td>\n",
       "      <td>married</td>\n",
       "      <td>40423.0</td>\n",
       "    </tr>\n",
       "    <tr>\n",
       "      <th>3</th>\n",
       "      <td>2254736.0</td>\n",
       "      <td>1.0</td>\n",
       "      <td>4.0</td>\n",
       "      <td>4.0</td>\n",
       "      <td>7.0</td>\n",
       "      <td>29.0</td>\n",
       "      <td>196</td>\n",
       "      <td>1.0</td>\n",
       "      <td>1.0</td>\n",
       "      <td>both</td>\n",
       "      <td>...</td>\n",
       "      <td>Frequent customer</td>\n",
       "      <td>Linda</td>\n",
       "      <td>Nguyen</td>\n",
       "      <td>Female</td>\n",
       "      <td>Alabama</td>\n",
       "      <td>31.0</td>\n",
       "      <td>2/17/2019</td>\n",
       "      <td>3.0</td>\n",
       "      <td>married</td>\n",
       "      <td>40423.0</td>\n",
       "    </tr>\n",
       "    <tr>\n",
       "      <th>4</th>\n",
       "      <td>431534.0</td>\n",
       "      <td>1.0</td>\n",
       "      <td>5.0</td>\n",
       "      <td>4.0</td>\n",
       "      <td>15.0</td>\n",
       "      <td>28.0</td>\n",
       "      <td>196</td>\n",
       "      <td>1.0</td>\n",
       "      <td>1.0</td>\n",
       "      <td>both</td>\n",
       "      <td>...</td>\n",
       "      <td>Regular customer</td>\n",
       "      <td>Linda</td>\n",
       "      <td>Nguyen</td>\n",
       "      <td>Female</td>\n",
       "      <td>Alabama</td>\n",
       "      <td>31.0</td>\n",
       "      <td>2/17/2019</td>\n",
       "      <td>3.0</td>\n",
       "      <td>married</td>\n",
       "      <td>40423.0</td>\n",
       "    </tr>\n",
       "  </tbody>\n",
       "</table>\n",
       "<p>5 rows × 33 columns</p>\n",
       "</div>"
      ],
      "text/plain": [
       "    order_id  user_id  order_number  orders_day_of_week  order_hour_of_day  \\\n",
       "0  2539329.0      1.0           1.0                 2.0                8.0   \n",
       "1  2398795.0      1.0           2.0                 3.0                7.0   \n",
       "2   473747.0      1.0           3.0                 3.0               12.0   \n",
       "3  2254736.0      1.0           4.0                 4.0                7.0   \n",
       "4   431534.0      1.0           5.0                 4.0               15.0   \n",
       "\n",
       "   days_since_prior_order  product_id  add_to_cart_order  reordered _merge  \\\n",
       "0                     NaN         196                1.0        0.0   both   \n",
       "1                    15.0         196                1.0        1.0   both   \n",
       "2                    21.0         196                1.0        1.0   both   \n",
       "3                    29.0         196                1.0        1.0   both   \n",
       "4                    28.0         196                1.0        1.0   both   \n",
       "\n",
       "   ...     user_frequency  first_name  last_name  Gender    STATE   Age  \\\n",
       "0  ...                NaN       Linda     Nguyen  Female  Alabama  31.0   \n",
       "1  ...       Non-frequent       Linda     Nguyen  Female  Alabama  31.0   \n",
       "2  ...   Regular customer       Linda     Nguyen  Female  Alabama  31.0   \n",
       "3  ...  Frequent customer       Linda     Nguyen  Female  Alabama  31.0   \n",
       "4  ...   Regular customer       Linda     Nguyen  Female  Alabama  31.0   \n",
       "\n",
       "  date_joined number_dependants  fam_status   income  \n",
       "0   2/17/2019               3.0     married  40423.0  \n",
       "1   2/17/2019               3.0     married  40423.0  \n",
       "2   2/17/2019               3.0     married  40423.0  \n",
       "3   2/17/2019               3.0     married  40423.0  \n",
       "4   2/17/2019               3.0     married  40423.0  \n",
       "\n",
       "[5 rows x 33 columns]"
      ]
     },
     "execution_count": 5,
     "metadata": {},
     "output_type": "execute_result"
    }
   ],
   "source": [
    "ic_data.head()"
   ]
  },
  {
   "cell_type": "markdown",
   "id": "2e88ca61",
   "metadata": {},
   "source": [
    "### Step 2"
   ]
  },
  {
   "cell_type": "markdown",
   "id": "0f6e94af",
   "metadata": {},
   "source": [
    "Data incldues identifier data such as names, checked with stateholders and determiend data should be dropped"
   ]
  },
  {
   "cell_type": "code",
   "execution_count": 6,
   "id": "a7be52cf",
   "metadata": {},
   "outputs": [],
   "source": [
    "# Dropping first name\n",
    "ic_data = ic_data.drop(columns = ['first_name'])"
   ]
  },
  {
   "cell_type": "code",
   "execution_count": 7,
   "id": "cf56e3e0",
   "metadata": {},
   "outputs": [],
   "source": [
    "# dropping last name\n",
    "ic_data = ic_data.drop(columns = ['last_name'])"
   ]
  },
  {
   "cell_type": "code",
   "execution_count": 8,
   "id": "da668b27",
   "metadata": {},
   "outputs": [
    {
     "data": {
      "text/html": [
       "<div>\n",
       "<style scoped>\n",
       "    .dataframe tbody tr th:only-of-type {\n",
       "        vertical-align: middle;\n",
       "    }\n",
       "\n",
       "    .dataframe tbody tr th {\n",
       "        vertical-align: top;\n",
       "    }\n",
       "\n",
       "    .dataframe thead th {\n",
       "        text-align: right;\n",
       "    }\n",
       "</style>\n",
       "<table border=\"1\" class=\"dataframe\">\n",
       "  <thead>\n",
       "    <tr style=\"text-align: right;\">\n",
       "      <th></th>\n",
       "      <th>order_id</th>\n",
       "      <th>user_id</th>\n",
       "      <th>order_number</th>\n",
       "      <th>orders_day_of_week</th>\n",
       "      <th>order_hour_of_day</th>\n",
       "      <th>days_since_prior_order</th>\n",
       "      <th>product_id</th>\n",
       "      <th>add_to_cart_order</th>\n",
       "      <th>reordered</th>\n",
       "      <th>_merge</th>\n",
       "      <th>...</th>\n",
       "      <th>user_spending</th>\n",
       "      <th>median_days_since_order</th>\n",
       "      <th>user_frequency</th>\n",
       "      <th>Gender</th>\n",
       "      <th>STATE</th>\n",
       "      <th>Age</th>\n",
       "      <th>date_joined</th>\n",
       "      <th>number_dependants</th>\n",
       "      <th>fam_status</th>\n",
       "      <th>income</th>\n",
       "    </tr>\n",
       "  </thead>\n",
       "  <tbody>\n",
       "    <tr>\n",
       "      <th>0</th>\n",
       "      <td>2539329.0</td>\n",
       "      <td>1.0</td>\n",
       "      <td>1.0</td>\n",
       "      <td>2.0</td>\n",
       "      <td>8.0</td>\n",
       "      <td>NaN</td>\n",
       "      <td>196</td>\n",
       "      <td>1.0</td>\n",
       "      <td>0.0</td>\n",
       "      <td>both</td>\n",
       "      <td>...</td>\n",
       "      <td>NaN</td>\n",
       "      <td>NaN</td>\n",
       "      <td>NaN</td>\n",
       "      <td>Female</td>\n",
       "      <td>Alabama</td>\n",
       "      <td>31.0</td>\n",
       "      <td>2/17/2019</td>\n",
       "      <td>3.0</td>\n",
       "      <td>married</td>\n",
       "      <td>40423.0</td>\n",
       "    </tr>\n",
       "    <tr>\n",
       "      <th>1</th>\n",
       "      <td>2398795.0</td>\n",
       "      <td>1.0</td>\n",
       "      <td>2.0</td>\n",
       "      <td>3.0</td>\n",
       "      <td>7.0</td>\n",
       "      <td>15.0</td>\n",
       "      <td>196</td>\n",
       "      <td>1.0</td>\n",
       "      <td>1.0</td>\n",
       "      <td>both</td>\n",
       "      <td>...</td>\n",
       "      <td>Low spender</td>\n",
       "      <td>20.5</td>\n",
       "      <td>Non-frequent</td>\n",
       "      <td>Female</td>\n",
       "      <td>Alabama</td>\n",
       "      <td>31.0</td>\n",
       "      <td>2/17/2019</td>\n",
       "      <td>3.0</td>\n",
       "      <td>married</td>\n",
       "      <td>40423.0</td>\n",
       "    </tr>\n",
       "    <tr>\n",
       "      <th>2</th>\n",
       "      <td>473747.0</td>\n",
       "      <td>1.0</td>\n",
       "      <td>3.0</td>\n",
       "      <td>3.0</td>\n",
       "      <td>12.0</td>\n",
       "      <td>21.0</td>\n",
       "      <td>196</td>\n",
       "      <td>1.0</td>\n",
       "      <td>1.0</td>\n",
       "      <td>both</td>\n",
       "      <td>...</td>\n",
       "      <td>Low spender</td>\n",
       "      <td>13.0</td>\n",
       "      <td>Regular customer</td>\n",
       "      <td>Female</td>\n",
       "      <td>Alabama</td>\n",
       "      <td>31.0</td>\n",
       "      <td>2/17/2019</td>\n",
       "      <td>3.0</td>\n",
       "      <td>married</td>\n",
       "      <td>40423.0</td>\n",
       "    </tr>\n",
       "    <tr>\n",
       "      <th>3</th>\n",
       "      <td>2254736.0</td>\n",
       "      <td>1.0</td>\n",
       "      <td>4.0</td>\n",
       "      <td>4.0</td>\n",
       "      <td>7.0</td>\n",
       "      <td>29.0</td>\n",
       "      <td>196</td>\n",
       "      <td>1.0</td>\n",
       "      <td>1.0</td>\n",
       "      <td>both</td>\n",
       "      <td>...</td>\n",
       "      <td>Low spender</td>\n",
       "      <td>10.0</td>\n",
       "      <td>Frequent customer</td>\n",
       "      <td>Female</td>\n",
       "      <td>Alabama</td>\n",
       "      <td>31.0</td>\n",
       "      <td>2/17/2019</td>\n",
       "      <td>3.0</td>\n",
       "      <td>married</td>\n",
       "      <td>40423.0</td>\n",
       "    </tr>\n",
       "    <tr>\n",
       "      <th>4</th>\n",
       "      <td>431534.0</td>\n",
       "      <td>1.0</td>\n",
       "      <td>5.0</td>\n",
       "      <td>4.0</td>\n",
       "      <td>15.0</td>\n",
       "      <td>28.0</td>\n",
       "      <td>196</td>\n",
       "      <td>1.0</td>\n",
       "      <td>1.0</td>\n",
       "      <td>both</td>\n",
       "      <td>...</td>\n",
       "      <td>Low spender</td>\n",
       "      <td>20.0</td>\n",
       "      <td>Regular customer</td>\n",
       "      <td>Female</td>\n",
       "      <td>Alabama</td>\n",
       "      <td>31.0</td>\n",
       "      <td>2/17/2019</td>\n",
       "      <td>3.0</td>\n",
       "      <td>married</td>\n",
       "      <td>40423.0</td>\n",
       "    </tr>\n",
       "  </tbody>\n",
       "</table>\n",
       "<p>5 rows × 31 columns</p>\n",
       "</div>"
      ],
      "text/plain": [
       "    order_id  user_id  order_number  orders_day_of_week  order_hour_of_day  \\\n",
       "0  2539329.0      1.0           1.0                 2.0                8.0   \n",
       "1  2398795.0      1.0           2.0                 3.0                7.0   \n",
       "2   473747.0      1.0           3.0                 3.0               12.0   \n",
       "3  2254736.0      1.0           4.0                 4.0                7.0   \n",
       "4   431534.0      1.0           5.0                 4.0               15.0   \n",
       "\n",
       "   days_since_prior_order  product_id  add_to_cart_order  reordered _merge  \\\n",
       "0                     NaN         196                1.0        0.0   both   \n",
       "1                    15.0         196                1.0        1.0   both   \n",
       "2                    21.0         196                1.0        1.0   both   \n",
       "3                    29.0         196                1.0        1.0   both   \n",
       "4                    28.0         196                1.0        1.0   both   \n",
       "\n",
       "   ... user_spending  median_days_since_order     user_frequency  Gender  \\\n",
       "0  ...           NaN                      NaN                NaN  Female   \n",
       "1  ...   Low spender                     20.5       Non-frequent  Female   \n",
       "2  ...   Low spender                     13.0   Regular customer  Female   \n",
       "3  ...   Low spender                     10.0  Frequent customer  Female   \n",
       "4  ...   Low spender                     20.0   Regular customer  Female   \n",
       "\n",
       "     STATE   Age date_joined number_dependants  fam_status   income  \n",
       "0  Alabama  31.0   2/17/2019               3.0     married  40423.0  \n",
       "1  Alabama  31.0   2/17/2019               3.0     married  40423.0  \n",
       "2  Alabama  31.0   2/17/2019               3.0     married  40423.0  \n",
       "3  Alabama  31.0   2/17/2019               3.0     married  40423.0  \n",
       "4  Alabama  31.0   2/17/2019               3.0     married  40423.0  \n",
       "\n",
       "[5 rows x 31 columns]"
      ]
     },
     "execution_count": 8,
     "metadata": {},
     "output_type": "execute_result"
    }
   ],
   "source": [
    "ic_data.head()"
   ]
  },
  {
   "cell_type": "markdown",
   "id": "65d93d27",
   "metadata": {},
   "source": [
    "No additional PII issues identified"
   ]
  },
  {
   "cell_type": "markdown",
   "id": "9c64d17a",
   "metadata": {},
   "source": [
    "### Step 3"
   ]
  },
  {
   "cell_type": "markdown",
   "id": "c4284703",
   "metadata": {},
   "source": [
    "### Creating region flag"
   ]
  },
  {
   "cell_type": "code",
   "execution_count": 9,
   "id": "5519a599",
   "metadata": {},
   "outputs": [],
   "source": [
    "# region groups\n",
    "Northeast = ['Maine', 'New Hampshire', 'Vermont', 'Massachusetts', 'Rhode Island', 'Connecticut', 'New York', 'Pennsylvania', 'New Jersey']\n",
    "Midwest = ['Wisconsin', 'Michigan', 'Illinois', 'Indiana', 'Ohio', 'North Dakota', 'South Dakota', 'Nebraska', 'Kansas', 'Minnesota', 'Iowa', 'Missouri']\n",
    "South = ['Delaware', 'Maryland', 'District of Columbia', 'Virginia', 'West Virginia', 'North Carolina', 'South Carolina', 'Georgia', 'Florida', 'Kentucky', 'Tennessee', 'Mississippi', 'Alabama', 'Oklahoma', 'Texas', 'Arkansas', 'Louisiana']\n",
    "West = ['Idaho', 'Montana', 'Wyoming', 'Nevada', 'Utah', 'Colorado', 'Arizona', 'New Mexico', 'Alaska', 'Washington', 'Oregon', 'California', 'Hawaii']"
   ]
  },
  {
   "cell_type": "code",
   "execution_count": 10,
   "id": "b649ae3a",
   "metadata": {},
   "outputs": [
    {
     "data": {
      "text/plain": [
       "['Maine',\n",
       " 'New Hampshire',\n",
       " 'Vermont',\n",
       " 'Massachusetts',\n",
       " 'Rhode Island',\n",
       " 'Connecticut',\n",
       " 'New York',\n",
       " 'Pennsylvania',\n",
       " 'New Jersey']"
      ]
     },
     "execution_count": 10,
     "metadata": {},
     "output_type": "execute_result"
    }
   ],
   "source": [
    "Northeast"
   ]
  },
  {
   "cell_type": "code",
   "execution_count": 11,
   "id": "e582f2cf",
   "metadata": {},
   "outputs": [
    {
     "data": {
      "text/plain": [
       "['Wisconsin',\n",
       " 'Michigan',\n",
       " 'Illinois',\n",
       " 'Indiana',\n",
       " 'Ohio',\n",
       " 'North Dakota',\n",
       " 'South Dakota',\n",
       " 'Nebraska',\n",
       " 'Kansas',\n",
       " 'Minnesota',\n",
       " 'Iowa',\n",
       " 'Missouri']"
      ]
     },
     "execution_count": 11,
     "metadata": {},
     "output_type": "execute_result"
    }
   ],
   "source": [
    "Midwest"
   ]
  },
  {
   "cell_type": "code",
   "execution_count": 12,
   "id": "5c5c8277",
   "metadata": {},
   "outputs": [
    {
     "data": {
      "text/plain": [
       "['Delaware',\n",
       " 'Maryland',\n",
       " 'District of Columbia',\n",
       " 'Virginia',\n",
       " 'West Virginia',\n",
       " 'North Carolina',\n",
       " 'South Carolina',\n",
       " 'Georgia',\n",
       " 'Florida',\n",
       " 'Kentucky',\n",
       " 'Tennessee',\n",
       " 'Mississippi',\n",
       " 'Alabama',\n",
       " 'Oklahoma',\n",
       " 'Texas',\n",
       " 'Arkansas',\n",
       " 'Louisiana']"
      ]
     },
     "execution_count": 12,
     "metadata": {},
     "output_type": "execute_result"
    }
   ],
   "source": [
    "South"
   ]
  },
  {
   "cell_type": "code",
   "execution_count": 13,
   "id": "baa9459f",
   "metadata": {},
   "outputs": [
    {
     "data": {
      "text/plain": [
       "['Idaho',\n",
       " 'Montana',\n",
       " 'Wyoming',\n",
       " 'Nevada',\n",
       " 'Utah',\n",
       " 'Colorado',\n",
       " 'Arizona',\n",
       " 'New Mexico',\n",
       " 'Alaska',\n",
       " 'Washington',\n",
       " 'Oregon',\n",
       " 'California',\n",
       " 'Hawaii']"
      ]
     },
     "execution_count": 13,
     "metadata": {},
     "output_type": "execute_result"
    }
   ],
   "source": [
    "West"
   ]
  },
  {
   "cell_type": "code",
   "execution_count": 14,
   "id": "e39abfb6",
   "metadata": {},
   "outputs": [],
   "source": [
    "# creating region flag\n",
    "ic_data.loc[ic_data['STATE'].isin(Northeast), 'Region'] = 'Northeast'\n",
    "ic_data.loc[ic_data['STATE'].isin(Midwest), 'Region'] = 'Midwest'\n",
    "ic_data.loc[ic_data['STATE'].isin(South), 'Region'] = 'South'\n",
    "ic_data.loc[ic_data['STATE'].isin(West), 'Region'] = 'West'"
   ]
  },
  {
   "cell_type": "code",
   "execution_count": 15,
   "id": "3fac4eae",
   "metadata": {},
   "outputs": [
    {
     "data": {
      "text/plain": [
       "South        10801982\n",
       "West          8300617\n",
       "Midwest       7604016\n",
       "Northeast     5728444\n",
       "NaN                11\n",
       "Name: Region, dtype: int64"
      ]
     },
     "execution_count": 15,
     "metadata": {},
     "output_type": "execute_result"
    }
   ],
   "source": [
    "ic_data['Region'].value_counts(dropna = False)"
   ]
  },
  {
   "cell_type": "code",
   "execution_count": 16,
   "id": "344685d8",
   "metadata": {},
   "outputs": [],
   "source": [
    "# Finding missing values\n",
    "nan = ic_data[ic_data['Region'].isnull() == True]"
   ]
  },
  {
   "cell_type": "code",
   "execution_count": 17,
   "id": "51f61243",
   "metadata": {},
   "outputs": [
    {
     "data": {
      "text/html": [
       "<div>\n",
       "<style scoped>\n",
       "    .dataframe tbody tr th:only-of-type {\n",
       "        vertical-align: middle;\n",
       "    }\n",
       "\n",
       "    .dataframe tbody tr th {\n",
       "        vertical-align: top;\n",
       "    }\n",
       "\n",
       "    .dataframe thead th {\n",
       "        text-align: right;\n",
       "    }\n",
       "</style>\n",
       "<table border=\"1\" class=\"dataframe\">\n",
       "  <thead>\n",
       "    <tr style=\"text-align: right;\">\n",
       "      <th></th>\n",
       "      <th>order_id</th>\n",
       "      <th>user_id</th>\n",
       "      <th>order_number</th>\n",
       "      <th>orders_day_of_week</th>\n",
       "      <th>order_hour_of_day</th>\n",
       "      <th>days_since_prior_order</th>\n",
       "      <th>product_id</th>\n",
       "      <th>add_to_cart_order</th>\n",
       "      <th>reordered</th>\n",
       "      <th>_merge</th>\n",
       "      <th>...</th>\n",
       "      <th>median_days_since_order</th>\n",
       "      <th>user_frequency</th>\n",
       "      <th>Gender</th>\n",
       "      <th>STATE</th>\n",
       "      <th>Age</th>\n",
       "      <th>date_joined</th>\n",
       "      <th>number_dependants</th>\n",
       "      <th>fam_status</th>\n",
       "      <th>income</th>\n",
       "      <th>Region</th>\n",
       "    </tr>\n",
       "  </thead>\n",
       "  <tbody>\n",
       "    <tr>\n",
       "      <th>32435059</th>\n",
       "      <td>NaN</td>\n",
       "      <td>NaN</td>\n",
       "      <td>NaN</td>\n",
       "      <td>NaN</td>\n",
       "      <td>NaN</td>\n",
       "      <td>NaN</td>\n",
       "      <td>3630</td>\n",
       "      <td>NaN</td>\n",
       "      <td>NaN</td>\n",
       "      <td>NaN</td>\n",
       "      <td>...</td>\n",
       "      <td>NaN</td>\n",
       "      <td>NaN</td>\n",
       "      <td>NaN</td>\n",
       "      <td>NaN</td>\n",
       "      <td>NaN</td>\n",
       "      <td>NaN</td>\n",
       "      <td>NaN</td>\n",
       "      <td>NaN</td>\n",
       "      <td>NaN</td>\n",
       "      <td>NaN</td>\n",
       "    </tr>\n",
       "    <tr>\n",
       "      <th>32435060</th>\n",
       "      <td>NaN</td>\n",
       "      <td>NaN</td>\n",
       "      <td>NaN</td>\n",
       "      <td>NaN</td>\n",
       "      <td>NaN</td>\n",
       "      <td>NaN</td>\n",
       "      <td>3718</td>\n",
       "      <td>NaN</td>\n",
       "      <td>NaN</td>\n",
       "      <td>NaN</td>\n",
       "      <td>...</td>\n",
       "      <td>NaN</td>\n",
       "      <td>NaN</td>\n",
       "      <td>NaN</td>\n",
       "      <td>NaN</td>\n",
       "      <td>NaN</td>\n",
       "      <td>NaN</td>\n",
       "      <td>NaN</td>\n",
       "      <td>NaN</td>\n",
       "      <td>NaN</td>\n",
       "      <td>NaN</td>\n",
       "    </tr>\n",
       "    <tr>\n",
       "      <th>32435061</th>\n",
       "      <td>NaN</td>\n",
       "      <td>NaN</td>\n",
       "      <td>NaN</td>\n",
       "      <td>NaN</td>\n",
       "      <td>NaN</td>\n",
       "      <td>NaN</td>\n",
       "      <td>7045</td>\n",
       "      <td>NaN</td>\n",
       "      <td>NaN</td>\n",
       "      <td>NaN</td>\n",
       "      <td>...</td>\n",
       "      <td>NaN</td>\n",
       "      <td>NaN</td>\n",
       "      <td>NaN</td>\n",
       "      <td>NaN</td>\n",
       "      <td>NaN</td>\n",
       "      <td>NaN</td>\n",
       "      <td>NaN</td>\n",
       "      <td>NaN</td>\n",
       "      <td>NaN</td>\n",
       "      <td>NaN</td>\n",
       "    </tr>\n",
       "    <tr>\n",
       "      <th>32435062</th>\n",
       "      <td>NaN</td>\n",
       "      <td>NaN</td>\n",
       "      <td>NaN</td>\n",
       "      <td>NaN</td>\n",
       "      <td>NaN</td>\n",
       "      <td>NaN</td>\n",
       "      <td>25383</td>\n",
       "      <td>NaN</td>\n",
       "      <td>NaN</td>\n",
       "      <td>NaN</td>\n",
       "      <td>...</td>\n",
       "      <td>NaN</td>\n",
       "      <td>NaN</td>\n",
       "      <td>NaN</td>\n",
       "      <td>NaN</td>\n",
       "      <td>NaN</td>\n",
       "      <td>NaN</td>\n",
       "      <td>NaN</td>\n",
       "      <td>NaN</td>\n",
       "      <td>NaN</td>\n",
       "      <td>NaN</td>\n",
       "    </tr>\n",
       "    <tr>\n",
       "      <th>32435063</th>\n",
       "      <td>NaN</td>\n",
       "      <td>NaN</td>\n",
       "      <td>NaN</td>\n",
       "      <td>NaN</td>\n",
       "      <td>NaN</td>\n",
       "      <td>NaN</td>\n",
       "      <td>27499</td>\n",
       "      <td>NaN</td>\n",
       "      <td>NaN</td>\n",
       "      <td>NaN</td>\n",
       "      <td>...</td>\n",
       "      <td>NaN</td>\n",
       "      <td>NaN</td>\n",
       "      <td>NaN</td>\n",
       "      <td>NaN</td>\n",
       "      <td>NaN</td>\n",
       "      <td>NaN</td>\n",
       "      <td>NaN</td>\n",
       "      <td>NaN</td>\n",
       "      <td>NaN</td>\n",
       "      <td>NaN</td>\n",
       "    </tr>\n",
       "    <tr>\n",
       "      <th>32435064</th>\n",
       "      <td>NaN</td>\n",
       "      <td>NaN</td>\n",
       "      <td>NaN</td>\n",
       "      <td>NaN</td>\n",
       "      <td>NaN</td>\n",
       "      <td>NaN</td>\n",
       "      <td>36233</td>\n",
       "      <td>NaN</td>\n",
       "      <td>NaN</td>\n",
       "      <td>NaN</td>\n",
       "      <td>...</td>\n",
       "      <td>NaN</td>\n",
       "      <td>NaN</td>\n",
       "      <td>NaN</td>\n",
       "      <td>NaN</td>\n",
       "      <td>NaN</td>\n",
       "      <td>NaN</td>\n",
       "      <td>NaN</td>\n",
       "      <td>NaN</td>\n",
       "      <td>NaN</td>\n",
       "      <td>NaN</td>\n",
       "    </tr>\n",
       "    <tr>\n",
       "      <th>32435065</th>\n",
       "      <td>NaN</td>\n",
       "      <td>NaN</td>\n",
       "      <td>NaN</td>\n",
       "      <td>NaN</td>\n",
       "      <td>NaN</td>\n",
       "      <td>NaN</td>\n",
       "      <td>37703</td>\n",
       "      <td>NaN</td>\n",
       "      <td>NaN</td>\n",
       "      <td>NaN</td>\n",
       "      <td>...</td>\n",
       "      <td>NaN</td>\n",
       "      <td>NaN</td>\n",
       "      <td>NaN</td>\n",
       "      <td>NaN</td>\n",
       "      <td>NaN</td>\n",
       "      <td>NaN</td>\n",
       "      <td>NaN</td>\n",
       "      <td>NaN</td>\n",
       "      <td>NaN</td>\n",
       "      <td>NaN</td>\n",
       "    </tr>\n",
       "    <tr>\n",
       "      <th>32435066</th>\n",
       "      <td>NaN</td>\n",
       "      <td>NaN</td>\n",
       "      <td>NaN</td>\n",
       "      <td>NaN</td>\n",
       "      <td>NaN</td>\n",
       "      <td>NaN</td>\n",
       "      <td>43725</td>\n",
       "      <td>NaN</td>\n",
       "      <td>NaN</td>\n",
       "      <td>NaN</td>\n",
       "      <td>...</td>\n",
       "      <td>NaN</td>\n",
       "      <td>NaN</td>\n",
       "      <td>NaN</td>\n",
       "      <td>NaN</td>\n",
       "      <td>NaN</td>\n",
       "      <td>NaN</td>\n",
       "      <td>NaN</td>\n",
       "      <td>NaN</td>\n",
       "      <td>NaN</td>\n",
       "      <td>NaN</td>\n",
       "    </tr>\n",
       "    <tr>\n",
       "      <th>32435067</th>\n",
       "      <td>NaN</td>\n",
       "      <td>NaN</td>\n",
       "      <td>NaN</td>\n",
       "      <td>NaN</td>\n",
       "      <td>NaN</td>\n",
       "      <td>NaN</td>\n",
       "      <td>45971</td>\n",
       "      <td>NaN</td>\n",
       "      <td>NaN</td>\n",
       "      <td>NaN</td>\n",
       "      <td>...</td>\n",
       "      <td>NaN</td>\n",
       "      <td>NaN</td>\n",
       "      <td>NaN</td>\n",
       "      <td>NaN</td>\n",
       "      <td>NaN</td>\n",
       "      <td>NaN</td>\n",
       "      <td>NaN</td>\n",
       "      <td>NaN</td>\n",
       "      <td>NaN</td>\n",
       "      <td>NaN</td>\n",
       "    </tr>\n",
       "    <tr>\n",
       "      <th>32435068</th>\n",
       "      <td>NaN</td>\n",
       "      <td>NaN</td>\n",
       "      <td>NaN</td>\n",
       "      <td>NaN</td>\n",
       "      <td>NaN</td>\n",
       "      <td>NaN</td>\n",
       "      <td>46625</td>\n",
       "      <td>NaN</td>\n",
       "      <td>NaN</td>\n",
       "      <td>NaN</td>\n",
       "      <td>...</td>\n",
       "      <td>NaN</td>\n",
       "      <td>NaN</td>\n",
       "      <td>NaN</td>\n",
       "      <td>NaN</td>\n",
       "      <td>NaN</td>\n",
       "      <td>NaN</td>\n",
       "      <td>NaN</td>\n",
       "      <td>NaN</td>\n",
       "      <td>NaN</td>\n",
       "      <td>NaN</td>\n",
       "    </tr>\n",
       "    <tr>\n",
       "      <th>32435069</th>\n",
       "      <td>NaN</td>\n",
       "      <td>NaN</td>\n",
       "      <td>NaN</td>\n",
       "      <td>NaN</td>\n",
       "      <td>NaN</td>\n",
       "      <td>NaN</td>\n",
       "      <td>49540</td>\n",
       "      <td>NaN</td>\n",
       "      <td>NaN</td>\n",
       "      <td>NaN</td>\n",
       "      <td>...</td>\n",
       "      <td>NaN</td>\n",
       "      <td>NaN</td>\n",
       "      <td>NaN</td>\n",
       "      <td>NaN</td>\n",
       "      <td>NaN</td>\n",
       "      <td>NaN</td>\n",
       "      <td>NaN</td>\n",
       "      <td>NaN</td>\n",
       "      <td>NaN</td>\n",
       "      <td>NaN</td>\n",
       "    </tr>\n",
       "  </tbody>\n",
       "</table>\n",
       "<p>11 rows × 32 columns</p>\n",
       "</div>"
      ],
      "text/plain": [
       "          order_id  user_id  order_number  orders_day_of_week  \\\n",
       "32435059       NaN      NaN           NaN                 NaN   \n",
       "32435060       NaN      NaN           NaN                 NaN   \n",
       "32435061       NaN      NaN           NaN                 NaN   \n",
       "32435062       NaN      NaN           NaN                 NaN   \n",
       "32435063       NaN      NaN           NaN                 NaN   \n",
       "32435064       NaN      NaN           NaN                 NaN   \n",
       "32435065       NaN      NaN           NaN                 NaN   \n",
       "32435066       NaN      NaN           NaN                 NaN   \n",
       "32435067       NaN      NaN           NaN                 NaN   \n",
       "32435068       NaN      NaN           NaN                 NaN   \n",
       "32435069       NaN      NaN           NaN                 NaN   \n",
       "\n",
       "          order_hour_of_day  days_since_prior_order  product_id  \\\n",
       "32435059                NaN                     NaN        3630   \n",
       "32435060                NaN                     NaN        3718   \n",
       "32435061                NaN                     NaN        7045   \n",
       "32435062                NaN                     NaN       25383   \n",
       "32435063                NaN                     NaN       27499   \n",
       "32435064                NaN                     NaN       36233   \n",
       "32435065                NaN                     NaN       37703   \n",
       "32435066                NaN                     NaN       43725   \n",
       "32435067                NaN                     NaN       45971   \n",
       "32435068                NaN                     NaN       46625   \n",
       "32435069                NaN                     NaN       49540   \n",
       "\n",
       "          add_to_cart_order  reordered _merge  ... median_days_since_order  \\\n",
       "32435059                NaN        NaN    NaN  ...                     NaN   \n",
       "32435060                NaN        NaN    NaN  ...                     NaN   \n",
       "32435061                NaN        NaN    NaN  ...                     NaN   \n",
       "32435062                NaN        NaN    NaN  ...                     NaN   \n",
       "32435063                NaN        NaN    NaN  ...                     NaN   \n",
       "32435064                NaN        NaN    NaN  ...                     NaN   \n",
       "32435065                NaN        NaN    NaN  ...                     NaN   \n",
       "32435066                NaN        NaN    NaN  ...                     NaN   \n",
       "32435067                NaN        NaN    NaN  ...                     NaN   \n",
       "32435068                NaN        NaN    NaN  ...                     NaN   \n",
       "32435069                NaN        NaN    NaN  ...                     NaN   \n",
       "\n",
       "          user_frequency  Gender  STATE Age date_joined number_dependants  \\\n",
       "32435059             NaN     NaN    NaN NaN         NaN               NaN   \n",
       "32435060             NaN     NaN    NaN NaN         NaN               NaN   \n",
       "32435061             NaN     NaN    NaN NaN         NaN               NaN   \n",
       "32435062             NaN     NaN    NaN NaN         NaN               NaN   \n",
       "32435063             NaN     NaN    NaN NaN         NaN               NaN   \n",
       "32435064             NaN     NaN    NaN NaN         NaN               NaN   \n",
       "32435065             NaN     NaN    NaN NaN         NaN               NaN   \n",
       "32435066             NaN     NaN    NaN NaN         NaN               NaN   \n",
       "32435067             NaN     NaN    NaN NaN         NaN               NaN   \n",
       "32435068             NaN     NaN    NaN NaN         NaN               NaN   \n",
       "32435069             NaN     NaN    NaN NaN         NaN               NaN   \n",
       "\n",
       "         fam_status  income Region  \n",
       "32435059        NaN     NaN    NaN  \n",
       "32435060        NaN     NaN    NaN  \n",
       "32435061        NaN     NaN    NaN  \n",
       "32435062        NaN     NaN    NaN  \n",
       "32435063        NaN     NaN    NaN  \n",
       "32435064        NaN     NaN    NaN  \n",
       "32435065        NaN     NaN    NaN  \n",
       "32435066        NaN     NaN    NaN  \n",
       "32435067        NaN     NaN    NaN  \n",
       "32435068        NaN     NaN    NaN  \n",
       "32435069        NaN     NaN    NaN  \n",
       "\n",
       "[11 rows x 32 columns]"
      ]
     },
     "execution_count": 17,
     "metadata": {},
     "output_type": "execute_result"
    }
   ],
   "source": [
    "nan"
   ]
  },
  {
   "cell_type": "code",
   "execution_count": 18,
   "id": "aaa45fe6",
   "metadata": {},
   "outputs": [],
   "source": [
    "# dropping NaN rows\n",
    "ic_data.dropna(subset = ['Region'], inplace = True)"
   ]
  },
  {
   "cell_type": "code",
   "execution_count": 19,
   "id": "de61b34d",
   "metadata": {},
   "outputs": [
    {
     "data": {
      "text/plain": [
       "South        10801982\n",
       "West          8300617\n",
       "Midwest       7604016\n",
       "Northeast     5728444\n",
       "Name: Region, dtype: int64"
      ]
     },
     "execution_count": 19,
     "metadata": {},
     "output_type": "execute_result"
    }
   ],
   "source": [
    "ic_data['Region'].value_counts(dropna=False)"
   ]
  },
  {
   "cell_type": "markdown",
   "id": "5d3be15e",
   "metadata": {},
   "source": [
    "### Comparing regional purchasing"
   ]
  },
  {
   "cell_type": "code",
   "execution_count": 21,
   "id": "8ab16957",
   "metadata": {},
   "outputs": [],
   "source": [
    "# creating crosstab\n",
    "crosstab = pd.crosstab(ic_data ['Region'], ic_data['user_spending'], dropna = False)"
   ]
  },
  {
   "cell_type": "code",
   "execution_count": 22,
   "id": "64601890",
   "metadata": {},
   "outputs": [
    {
     "data": {
      "text/html": [
       "<div>\n",
       "<style scoped>\n",
       "    .dataframe tbody tr th:only-of-type {\n",
       "        vertical-align: middle;\n",
       "    }\n",
       "\n",
       "    .dataframe tbody tr th {\n",
       "        vertical-align: top;\n",
       "    }\n",
       "\n",
       "    .dataframe thead th {\n",
       "        text-align: right;\n",
       "    }\n",
       "</style>\n",
       "<table border=\"1\" class=\"dataframe\">\n",
       "  <thead>\n",
       "    <tr style=\"text-align: right;\">\n",
       "      <th>user_spending</th>\n",
       "      <th>High spender</th>\n",
       "      <th>Low spender</th>\n",
       "    </tr>\n",
       "    <tr>\n",
       "      <th>Region</th>\n",
       "      <th></th>\n",
       "      <th></th>\n",
       "    </tr>\n",
       "  </thead>\n",
       "  <tbody>\n",
       "    <tr>\n",
       "      <th>Midwest</th>\n",
       "      <td>1269</td>\n",
       "      <td>47412</td>\n",
       "    </tr>\n",
       "    <tr>\n",
       "      <th>Northeast</th>\n",
       "      <td>915</td>\n",
       "      <td>35138</td>\n",
       "    </tr>\n",
       "    <tr>\n",
       "      <th>South</th>\n",
       "      <td>1787</td>\n",
       "      <td>66232</td>\n",
       "    </tr>\n",
       "    <tr>\n",
       "      <th>West</th>\n",
       "      <td>1386</td>\n",
       "      <td>52070</td>\n",
       "    </tr>\n",
       "  </tbody>\n",
       "</table>\n",
       "</div>"
      ],
      "text/plain": [
       "user_spending  High spender  Low spender\n",
       "Region                                  \n",
       "Midwest                1269        47412\n",
       "Northeast               915        35138\n",
       "South                  1787        66232\n",
       "West                   1386        52070"
      ]
     },
     "execution_count": 22,
     "metadata": {},
     "output_type": "execute_result"
    }
   ],
   "source": [
    "crosstab"
   ]
  },
  {
   "cell_type": "code",
   "execution_count": 23,
   "id": "4fb5f1c8",
   "metadata": {},
   "outputs": [],
   "source": [
    "# copy to Excel\n",
    "crosstab.to_clipboard()"
   ]
  },
  {
   "cell_type": "markdown",
   "id": "65e79b9a",
   "metadata": {},
   "source": [
    "### Step 4"
   ]
  },
  {
   "cell_type": "markdown",
   "id": "46cf69cd",
   "metadata": {},
   "source": [
    "## Exclusion flag for low orders"
   ]
  },
  {
   "cell_type": "code",
   "execution_count": 24,
   "id": "cef15cc6",
   "metadata": {},
   "outputs": [
    {
     "data": {
      "text/plain": [
       "0    10.0\n",
       "1    10.0\n",
       "2    10.0\n",
       "3    10.0\n",
       "4    10.0\n",
       "Name: max_order, dtype: float64"
      ]
     },
     "execution_count": 24,
     "metadata": {},
     "output_type": "execute_result"
    }
   ],
   "source": [
    "ic_data['max_order'].head()"
   ]
  },
  {
   "cell_type": "code",
   "execution_count": 25,
   "id": "be859449",
   "metadata": {},
   "outputs": [],
   "source": [
    "# creating subset for orders greater than 5\n",
    "ic_data_max = ic_data[ic_data['max_order']>5]"
   ]
  },
  {
   "cell_type": "code",
   "execution_count": 26,
   "id": "44872107",
   "metadata": {},
   "outputs": [
    {
     "data": {
      "text/plain": [
       "(30199644, 32)"
      ]
     },
     "execution_count": 26,
     "metadata": {},
     "output_type": "execute_result"
    }
   ],
   "source": [
    "ic_data_max.shape"
   ]
  },
  {
   "cell_type": "code",
   "execution_count": 27,
   "id": "4c61382c",
   "metadata": {},
   "outputs": [
    {
     "data": {
      "text/plain": [
       "(32435059, 32)"
      ]
     },
     "execution_count": 27,
     "metadata": {},
     "output_type": "execute_result"
    }
   ],
   "source": [
    "ic_data.shape"
   ]
  },
  {
   "cell_type": "code",
   "execution_count": 29,
   "id": "a94567c9",
   "metadata": {},
   "outputs": [],
   "source": [
    "#exporting subset\n",
    "ic_data_max.to_pickle(os.path.join(path, 'Data','Prepared', 'ic_data_order_over_5.pkl'))"
   ]
  },
  {
   "cell_type": "markdown",
   "id": "350c814c",
   "metadata": {},
   "source": [
    "### Step 5"
   ]
  },
  {
   "cell_type": "markdown",
   "id": "643f2d43",
   "metadata": {},
   "source": [
    "### Customer Profiling"
   ]
  },
  {
   "cell_type": "code",
   "execution_count": 30,
   "id": "51222485",
   "metadata": {},
   "outputs": [
    {
     "data": {
      "text/plain": [
       "count    3.243506e+07\n",
       "mean     4.946512e+01\n",
       "std      1.848555e+01\n",
       "min      1.800000e+01\n",
       "25%      3.300000e+01\n",
       "50%      4.900000e+01\n",
       "75%      6.500000e+01\n",
       "max      8.100000e+01\n",
       "Name: Age, dtype: float64"
      ]
     },
     "execution_count": 30,
     "metadata": {},
     "output_type": "execute_result"
    }
   ],
   "source": [
    "# Age profiling\n",
    "ic_data['Age'].describe()"
   ]
  },
  {
   "cell_type": "code",
   "execution_count": 31,
   "id": "a67a4eab",
   "metadata": {},
   "outputs": [],
   "source": [
    "# Age group flags\n",
    "ic_data.loc[ic_data['Age']>= 65, 'age_group'] = 'Senior'"
   ]
  },
  {
   "cell_type": "code",
   "execution_count": 32,
   "id": "6686d023",
   "metadata": {},
   "outputs": [],
   "source": [
    "ic_data.loc[(ic_data['Age'] < 65) & (ic_data['Age'] >= 35), 'age_group'] = 'Middle Age'"
   ]
  },
  {
   "cell_type": "code",
   "execution_count": 33,
   "id": "819cc78a",
   "metadata": {},
   "outputs": [],
   "source": [
    "ic_data.loc[ic_data['Age'] <35, 'age_group'] = 'Young Adult'"
   ]
  },
  {
   "cell_type": "code",
   "execution_count": 34,
   "id": "8ccffeed",
   "metadata": {},
   "outputs": [
    {
     "data": {
      "text/plain": [
       "Middle Age     15216519\n",
       "Young Adult     8635731\n",
       "Senior          8582809\n",
       "Name: age_group, dtype: int64"
      ]
     },
     "execution_count": 34,
     "metadata": {},
     "output_type": "execute_result"
    }
   ],
   "source": [
    "ic_data['age_group'].value_counts(dropna = False)"
   ]
  },
  {
   "cell_type": "code",
   "execution_count": 35,
   "id": "1a81d3b0",
   "metadata": {},
   "outputs": [
    {
     "data": {
      "text/plain": [
       "count    3.243506e+07\n",
       "mean     9.943550e+04\n",
       "std      4.305540e+04\n",
       "min      2.590300e+04\n",
       "25%      6.700200e+04\n",
       "50%      9.661200e+04\n",
       "75%      1.279080e+05\n",
       "max      5.939010e+05\n",
       "Name: income, dtype: float64"
      ]
     },
     "execution_count": 35,
     "metadata": {},
     "output_type": "execute_result"
    }
   ],
   "source": [
    "# income profiling\n",
    "ic_data['income'].describe()"
   ]
  },
  {
   "cell_type": "code",
   "execution_count": 36,
   "id": "34f3738b",
   "metadata": {},
   "outputs": [],
   "source": [
    "# income flags\n",
    "ic_data.loc[ic_data['income'] <70000, 'income_bracket'] = 'Lower income'"
   ]
  },
  {
   "cell_type": "code",
   "execution_count": 37,
   "id": "ae736752",
   "metadata": {},
   "outputs": [],
   "source": [
    "ic_data.loc[(ic_data['income'] >=70000) & (ic_data['income'] < 125000), 'income_bracket'] = 'Middle income'"
   ]
  },
  {
   "cell_type": "code",
   "execution_count": 38,
   "id": "4c3ce3aa",
   "metadata": {},
   "outputs": [],
   "source": [
    "ic_data.loc[ic_data['income'] >= 125000, 'income_bracket'] = 'Higher income'"
   ]
  },
  {
   "cell_type": "code",
   "execution_count": 39,
   "id": "5dfbc31f",
   "metadata": {},
   "outputs": [
    {
     "data": {
      "text/plain": [
       "Middle income    14791741\n",
       "Lower income      9004620\n",
       "Higher income     8638698\n",
       "Name: income_bracket, dtype: int64"
      ]
     },
     "execution_count": 39,
     "metadata": {},
     "output_type": "execute_result"
    }
   ],
   "source": [
    "ic_data['income_bracket'].value_counts(dropna = False)"
   ]
  },
  {
   "cell_type": "code",
   "execution_count": 41,
   "id": "9384bc9f",
   "metadata": {},
   "outputs": [],
   "source": [
    "# dependant no dependant flag\n",
    "ic_data.loc[ic_data['number_dependants'] == 0, 'dependants'] = 'No Dependants'"
   ]
  },
  {
   "cell_type": "code",
   "execution_count": 42,
   "id": "dda3fc38",
   "metadata": {},
   "outputs": [],
   "source": [
    "ic_data.loc[ic_data['number_dependants'] >= 1, 'dependants'] = 'Has Dependants'"
   ]
  },
  {
   "cell_type": "code",
   "execution_count": 43,
   "id": "33f0f775",
   "metadata": {},
   "outputs": [
    {
     "data": {
      "text/plain": [
       "Has Dependants    24329714\n",
       "No Dependants      8105345\n",
       "Name: dependants, dtype: int64"
      ]
     },
     "execution_count": 43,
     "metadata": {},
     "output_type": "execute_result"
    }
   ],
   "source": [
    "ic_data['dependants'].value_counts()"
   ]
  },
  {
   "cell_type": "markdown",
   "id": "f9fe31c1",
   "metadata": {},
   "source": [
    "### Step 6"
   ]
  },
  {
   "cell_type": "markdown",
   "id": "f670134c",
   "metadata": {},
   "source": [
    "### Visualizations"
   ]
  },
  {
   "cell_type": "code",
   "execution_count": 44,
   "id": "abba0c36",
   "metadata": {},
   "outputs": [
    {
     "data": {
      "image/png": "[encoded data removed]",
      "text/plain": [
       "<Figure size 640x480 with 1 Axes>"
      ]
     },
     "metadata": {},
     "output_type": "display_data"
    }
   ],
   "source": [
    "# bar chart for age\n",
    "bar_age = ic_data['age_group'].value_counts().plot.bar()"
   ]
  },
  {
   "cell_type": "code",
   "execution_count": 45,
   "id": "12170d83",
   "metadata": {},
   "outputs": [],
   "source": [
    "# exporting bar chart\n",
    "bar_age.figure.savefig(os.path.join(path, 'Analysis', 'Visualizations', 'bar_age.png'))"
   ]
  },
  {
   "cell_type": "code",
   "execution_count": 46,
   "id": "9cea52b9",
   "metadata": {},
   "outputs": [
    {
     "data": {
      "image/png": "[encoded data removed]",
      "text/plain": [
       "<Figure size 640x480 with 1 Axes>"
      ]
     },
     "metadata": {},
     "output_type": "display_data"
    }
   ],
   "source": [
    "# bar chart for income\n",
    "bar_income = ic_data['income_bracket'].value_counts().plot.bar()"
   ]
  },
  {
   "cell_type": "code",
   "execution_count": 47,
   "id": "3da47326",
   "metadata": {},
   "outputs": [],
   "source": [
    "bar_income.figure.savefig(os.path.join(path, 'Analysis', 'Visualizations', 'bar_income.png'))"
   ]
  },
  {
   "cell_type": "markdown",
   "id": "c77b2291",
   "metadata": {},
   "source": [
    "### Department Info"
   ]
  },
  {
   "cell_type": "code",
   "execution_count": 48,
   "id": "7abf933a",
   "metadata": {},
   "outputs": [
    {
     "data": {
      "image/png": "[encoded data removed]",
      "text/plain": [
       "<Figure size 640x480 with 1 Axes>"
      ]
     },
     "metadata": {},
     "output_type": "display_data"
    }
   ],
   "source": [
    "# department_id purchases\n",
    "bar_dept = ic_data['department_id'].value_counts().plot.bar()"
   ]
  },
  {
   "cell_type": "code",
   "execution_count": 49,
   "id": "1f73abb4",
   "metadata": {},
   "outputs": [],
   "source": [
    "# giving names to id numbers\n",
    "department_names = {1: 'Frozen', 2: 'Other', 3: 'Bakery', 4: 'Produce',5: 'Alcohol', 6: 'International',7: 'Beverages', 8:'Pets',9:'Dry Goods Pasta',10: 'Bulk', 11: 'Personal Care', 12: 'Meat/Seafood', 13: 'Pantry', 14: 'Breakfast',15:'Canned Goods', 16: 'Dairy/Eggs', 17: 'Household', 18: ' Babies', 19:'Snacks',20:'Deli',21:'Missing'}"
   ]
  },
  {
   "cell_type": "code",
   "execution_count": 50,
   "id": "7b01f67c",
   "metadata": {},
   "outputs": [],
   "source": [
    "# df for counts\n",
    "department_counts = ic_data['department_id'].value_counts()"
   ]
  },
  {
   "cell_type": "code",
   "execution_count": 51,
   "id": "8695a040",
   "metadata": {},
   "outputs": [
    {
     "data": {
      "image/png": "[encoded data removed]",
      "text/plain": [
       "<Figure size 640x480 with 1 Axes>"
      ]
     },
     "metadata": {},
     "output_type": "display_data"
    }
   ],
   "source": [
    "ax = department_counts.plot.bar()\n",
    "ax.set_xticklabels([department_names.get(x, '') for x in department_counts.index])\n",
    "for i, v in enumerate(department_counts):\n",
    "    ax.text(i, v, str(v), ha='center', va='bottom')\n",
    "    plt.show()"
   ]
  },
  {
   "cell_type": "code",
   "execution_count": 52,
   "id": "ea27c956",
   "metadata": {},
   "outputs": [],
   "source": [
    "# exporting bar chart\n",
    "ax.figure.savefig(os.path.join(path, 'Analysis','Visualizations', 'bar_dept.png'))"
   ]
  },
  {
   "cell_type": "code",
   "execution_count": 53,
   "id": "b55f2008",
   "metadata": {},
   "outputs": [],
   "source": [
    "# grouping for age and department\n",
    "age_department_counts = ic_data.groupby(['department_id','age_group']).size().unstack(fill_value=0)"
   ]
  },
  {
   "cell_type": "code",
   "execution_count": 54,
   "id": "e449564f",
   "metadata": {},
   "outputs": [
    {
     "data": {
      "image/png": "[encoded data removed]",
      "text/plain": [
       "<Figure size 640x480 with 1 Axes>"
      ]
     },
     "metadata": {},
     "output_type": "display_data"
    }
   ],
   "source": [
    "# bar chart of age and department id\n",
    "bar_age_department = age_department_counts.plot.bar(stacked=True)"
   ]
  },
  {
   "cell_type": "code",
   "execution_count": 55,
   "id": "23caef35",
   "metadata": {},
   "outputs": [],
   "source": [
    "# exporting chart\n",
    "bar_age_department.figure.savefig(os.path.join(path, 'Analysis', 'Visualizations', 'bar_age_department.png'))"
   ]
  },
  {
   "cell_type": "code",
   "execution_count": 56,
   "id": "78783c76",
   "metadata": {},
   "outputs": [],
   "source": [
    "# grouping for department and income\n",
    "department_income_counts = ic_data.groupby(['department_id','income_bracket']).size().unstack(fill_value=0)"
   ]
  },
  {
   "cell_type": "code",
   "execution_count": 58,
   "id": "0a712893",
   "metadata": {},
   "outputs": [
    {
     "data": {
      "image/png": "[encoded data removed]",
      "text/plain": [
       "<Figure size 640x480 with 1 Axes>"
      ]
     },
     "metadata": {},
     "output_type": "display_data"
    }
   ],
   "source": [
    "# bar chart\n",
    "bar_depart_income = department_income_counts.plot.bar(stacked=True)"
   ]
  },
  {
   "cell_type": "code",
   "execution_count": 59,
   "id": "d6bef304",
   "metadata": {},
   "outputs": [],
   "source": [
    "# exporting chart\n",
    "bar_depart_income.figure.savefig(os.path.join(path, 'Analysis', 'Visualizations', 'bar_depart_income.png'))"
   ]
  },
  {
   "cell_type": "markdown",
   "id": "f2247f05",
   "metadata": {},
   "source": [
    "### Family info"
   ]
  },
  {
   "cell_type": "code",
   "execution_count": 60,
   "id": "121cc80e",
   "metadata": {},
   "outputs": [],
   "source": [
    "# grouping fam status and income\n",
    "fam_income_counts = ic_data.groupby(['fam_status','income_bracket']).size().unstack(fill_value=0)"
   ]
  },
  {
   "cell_type": "code",
   "execution_count": 62,
   "id": "8841b9f2",
   "metadata": {},
   "outputs": [
    {
     "data": {
      "image/png": "[encoded data removed]",
      "text/plain": [
       "<Figure size 640x480 with 1 Axes>"
      ]
     },
     "metadata": {},
     "output_type": "display_data"
    }
   ],
   "source": [
    "# Bar chart for fam status and income\n",
    "fam_income_counts = fam_income_counts.plot.bar(stacked=True )"
   ]
  },
  {
   "cell_type": "code",
   "execution_count": 63,
   "id": "f8d35ec9",
   "metadata": {},
   "outputs": [],
   "source": [
    "# exporting fam income chart\n",
    "fam_income_counts.figure.savefig(os.path.join(path, 'Analysis','Visualizations', 'fam_income.png'))"
   ]
  },
  {
   "cell_type": "code",
   "execution_count": 64,
   "id": "a1a82256",
   "metadata": {},
   "outputs": [],
   "source": [
    "# grouping fam status and age group\n",
    "fam_age_counts = ic_data.groupby(['fam_status','age_group']).size().unstack(fill_value=0)"
   ]
  },
  {
   "cell_type": "code",
   "execution_count": 65,
   "id": "c8b835d1",
   "metadata": {},
   "outputs": [
    {
     "data": {
      "image/png": "[encoded data removed]",
      "text/plain": [
       "<Figure size 640x480 with 1 Axes>"
      ]
     },
     "metadata": {},
     "output_type": "display_data"
    }
   ],
   "source": [
    "bar_fam_age = fam_age_counts.sort_index().plot.bar(stacked=True )"
   ]
  },
  {
   "cell_type": "code",
   "execution_count": 66,
   "id": "a21a4d24",
   "metadata": {},
   "outputs": [],
   "source": [
    "# exporting bar chart\n",
    "bar_fam_age.figure.savefig(os.path.join(path, 'Analysis','Visualizations', 'bar_fam_age.png'))"
   ]
  },
  {
   "cell_type": "code",
   "execution_count": 68,
   "id": "c2a8e1e0",
   "metadata": {},
   "outputs": [],
   "source": [
    "# grouping fam status and dependants\n",
    "fam_depend_counts = ic_data.groupby(['fam_status','dependants']).size().unstack(fill_value=0)"
   ]
  },
  {
   "cell_type": "code",
   "execution_count": 69,
   "id": "02c6b6bb",
   "metadata": {},
   "outputs": [
    {
     "data": {
      "image/png": "[encoded data removed]",
      "text/plain": [
       "<Figure size 640x480 with 1 Axes>"
      ]
     },
     "metadata": {},
     "output_type": "display_data"
    }
   ],
   "source": [
    "# bar chart for fam status and dependants\n",
    "bar_fam_depend = fam_depend_counts.sort_index().plot.bar(stacked=True )"
   ]
  },
  {
   "cell_type": "code",
   "execution_count": 70,
   "id": "40c98a87",
   "metadata": {},
   "outputs": [],
   "source": [
    "# exporting bar chart\n",
    "bar_fam_depend.figure.savefig(os.path.join(path, 'Analysis', 'Visualizations', 'bar_fam_dept'))"
   ]
  },
  {
   "cell_type": "markdown",
   "id": "1178d59f",
   "metadata": {},
   "source": [
    "### Step 7"
   ]
  },
  {
   "cell_type": "markdown",
   "id": "643310c2",
   "metadata": {},
   "source": [
    "### Aggregations"
   ]
  },
  {
   "cell_type": "code",
   "execution_count": 71,
   "id": "fb2124aa",
   "metadata": {},
   "outputs": [
    {
     "data": {
      "text/html": [
       "<div>\n",
       "<style scoped>\n",
       "    .dataframe tbody tr th:only-of-type {\n",
       "        vertical-align: middle;\n",
       "    }\n",
       "\n",
       "    .dataframe tbody tr th {\n",
       "        vertical-align: top;\n",
       "    }\n",
       "\n",
       "    .dataframe thead tr th {\n",
       "        text-align: left;\n",
       "    }\n",
       "\n",
       "    .dataframe thead tr:last-of-type th {\n",
       "        text-align: right;\n",
       "    }\n",
       "</style>\n",
       "<table border=\"1\" class=\"dataframe\">\n",
       "  <thead>\n",
       "    <tr>\n",
       "      <th></th>\n",
       "      <th colspan=\"3\" halign=\"left\">prices</th>\n",
       "    </tr>\n",
       "    <tr>\n",
       "      <th></th>\n",
       "      <th>mean</th>\n",
       "      <th>min</th>\n",
       "      <th>max</th>\n",
       "    </tr>\n",
       "    <tr>\n",
       "      <th>age_group</th>\n",
       "      <th></th>\n",
       "      <th></th>\n",
       "      <th></th>\n",
       "    </tr>\n",
       "  </thead>\n",
       "  <tbody>\n",
       "    <tr>\n",
       "      <th>Middle Age</th>\n",
       "      <td>7.790860</td>\n",
       "      <td>1.0</td>\n",
       "      <td>25.0</td>\n",
       "    </tr>\n",
       "    <tr>\n",
       "      <th>Senior</th>\n",
       "      <td>7.796546</td>\n",
       "      <td>1.0</td>\n",
       "      <td>25.0</td>\n",
       "    </tr>\n",
       "    <tr>\n",
       "      <th>Young Adult</th>\n",
       "      <td>7.785713</td>\n",
       "      <td>1.0</td>\n",
       "      <td>25.0</td>\n",
       "    </tr>\n",
       "  </tbody>\n",
       "</table>\n",
       "</div>"
      ],
      "text/plain": [
       "               prices           \n",
       "                 mean  min   max\n",
       "age_group                       \n",
       "Middle Age   7.790860  1.0  25.0\n",
       "Senior       7.796546  1.0  25.0\n",
       "Young Adult  7.785713  1.0  25.0"
      ]
     },
     "execution_count": 71,
     "metadata": {},
     "output_type": "execute_result"
    }
   ],
   "source": [
    "# age and spending aggregations\n",
    "ic_data.groupby('age_group').agg({'prices': ['mean', 'min', 'max']})"
   ]
  },
  {
   "cell_type": "code",
   "execution_count": 72,
   "id": "18397bfa",
   "metadata": {},
   "outputs": [
    {
     "data": {
      "text/html": [
       "<div>\n",
       "<style scoped>\n",
       "    .dataframe tbody tr th:only-of-type {\n",
       "        vertical-align: middle;\n",
       "    }\n",
       "\n",
       "    .dataframe tbody tr th {\n",
       "        vertical-align: top;\n",
       "    }\n",
       "\n",
       "    .dataframe thead tr th {\n",
       "        text-align: left;\n",
       "    }\n",
       "\n",
       "    .dataframe thead tr:last-of-type th {\n",
       "        text-align: right;\n",
       "    }\n",
       "</style>\n",
       "<table border=\"1\" class=\"dataframe\">\n",
       "  <thead>\n",
       "    <tr>\n",
       "      <th></th>\n",
       "      <th colspan=\"3\" halign=\"left\">prices</th>\n",
       "    </tr>\n",
       "    <tr>\n",
       "      <th></th>\n",
       "      <th>mean</th>\n",
       "      <th>min</th>\n",
       "      <th>max</th>\n",
       "    </tr>\n",
       "    <tr>\n",
       "      <th>income_bracket</th>\n",
       "      <th></th>\n",
       "      <th></th>\n",
       "      <th></th>\n",
       "    </tr>\n",
       "  </thead>\n",
       "  <tbody>\n",
       "    <tr>\n",
       "      <th>Higher income</th>\n",
       "      <td>7.957172</td>\n",
       "      <td>1.0</td>\n",
       "      <td>25.0</td>\n",
       "    </tr>\n",
       "    <tr>\n",
       "      <th>Lower income</th>\n",
       "      <td>7.349622</td>\n",
       "      <td>1.0</td>\n",
       "      <td>25.0</td>\n",
       "    </tr>\n",
       "    <tr>\n",
       "      <th>Middle income</th>\n",
       "      <td>7.962668</td>\n",
       "      <td>1.0</td>\n",
       "      <td>25.0</td>\n",
       "    </tr>\n",
       "  </tbody>\n",
       "</table>\n",
       "</div>"
      ],
      "text/plain": [
       "                  prices           \n",
       "                    mean  min   max\n",
       "income_bracket                     \n",
       "Higher income   7.957172  1.0  25.0\n",
       "Lower income    7.349622  1.0  25.0\n",
       "Middle income   7.962668  1.0  25.0"
      ]
     },
     "execution_count": 72,
     "metadata": {},
     "output_type": "execute_result"
    }
   ],
   "source": [
    "# income and spending aggregations\n",
    "ic_data.groupby('income_bracket').agg({'prices': ['mean', 'min', 'max']})"
   ]
  },
  {
   "cell_type": "code",
   "execution_count": 73,
   "id": "643ec5da",
   "metadata": {},
   "outputs": [
    {
     "data": {
      "text/html": [
       "<div>\n",
       "<style scoped>\n",
       "    .dataframe tbody tr th:only-of-type {\n",
       "        vertical-align: middle;\n",
       "    }\n",
       "\n",
       "    .dataframe tbody tr th {\n",
       "        vertical-align: top;\n",
       "    }\n",
       "\n",
       "    .dataframe thead tr th {\n",
       "        text-align: left;\n",
       "    }\n",
       "\n",
       "    .dataframe thead tr:last-of-type th {\n",
       "        text-align: right;\n",
       "    }\n",
       "</style>\n",
       "<table border=\"1\" class=\"dataframe\">\n",
       "  <thead>\n",
       "    <tr>\n",
       "      <th></th>\n",
       "      <th colspan=\"3\" halign=\"left\">prices</th>\n",
       "    </tr>\n",
       "    <tr>\n",
       "      <th></th>\n",
       "      <th>mean</th>\n",
       "      <th>min</th>\n",
       "      <th>max</th>\n",
       "    </tr>\n",
       "    <tr>\n",
       "      <th>dependants</th>\n",
       "      <th></th>\n",
       "      <th></th>\n",
       "      <th></th>\n",
       "    </tr>\n",
       "  </thead>\n",
       "  <tbody>\n",
       "    <tr>\n",
       "      <th>Has Dependants</th>\n",
       "      <td>7.791334</td>\n",
       "      <td>1.0</td>\n",
       "      <td>25.0</td>\n",
       "    </tr>\n",
       "    <tr>\n",
       "      <th>No Dependants</th>\n",
       "      <td>7.789975</td>\n",
       "      <td>1.0</td>\n",
       "      <td>25.0</td>\n",
       "    </tr>\n",
       "  </tbody>\n",
       "</table>\n",
       "</div>"
      ],
      "text/plain": [
       "                  prices           \n",
       "                    mean  min   max\n",
       "dependants                         \n",
       "Has Dependants  7.791334  1.0  25.0\n",
       "No Dependants   7.789975  1.0  25.0"
      ]
     },
     "execution_count": 73,
     "metadata": {},
     "output_type": "execute_result"
    }
   ],
   "source": [
    "# dependants and spending aggregations\n",
    "ic_data.groupby('dependants').agg({'prices': ['mean', 'min', 'max']})"
   ]
  },
  {
   "cell_type": "code",
   "execution_count": 74,
   "id": "5fe81da2",
   "metadata": {},
   "outputs": [
    {
     "data": {
      "text/html": [
       "<div>\n",
       "<style scoped>\n",
       "    .dataframe tbody tr th:only-of-type {\n",
       "        vertical-align: middle;\n",
       "    }\n",
       "\n",
       "    .dataframe tbody tr th {\n",
       "        vertical-align: top;\n",
       "    }\n",
       "\n",
       "    .dataframe thead tr th {\n",
       "        text-align: left;\n",
       "    }\n",
       "\n",
       "    .dataframe thead tr:last-of-type th {\n",
       "        text-align: right;\n",
       "    }\n",
       "</style>\n",
       "<table border=\"1\" class=\"dataframe\">\n",
       "  <thead>\n",
       "    <tr>\n",
       "      <th></th>\n",
       "      <th colspan=\"3\" halign=\"left\">prices</th>\n",
       "    </tr>\n",
       "    <tr>\n",
       "      <th></th>\n",
       "      <th>mean</th>\n",
       "      <th>min</th>\n",
       "      <th>max</th>\n",
       "    </tr>\n",
       "    <tr>\n",
       "      <th>fam_status</th>\n",
       "      <th></th>\n",
       "      <th></th>\n",
       "      <th></th>\n",
       "    </tr>\n",
       "  </thead>\n",
       "  <tbody>\n",
       "    <tr>\n",
       "      <th>divorced/widowed</th>\n",
       "      <td>7.800975</td>\n",
       "      <td>1.0</td>\n",
       "      <td>25.0</td>\n",
       "    </tr>\n",
       "    <tr>\n",
       "      <th>living with parents and siblings</th>\n",
       "      <td>7.800712</td>\n",
       "      <td>1.0</td>\n",
       "      <td>25.0</td>\n",
       "    </tr>\n",
       "    <tr>\n",
       "      <th>married</th>\n",
       "      <td>7.790695</td>\n",
       "      <td>1.0</td>\n",
       "      <td>25.0</td>\n",
       "    </tr>\n",
       "    <tr>\n",
       "      <th>single</th>\n",
       "      <td>7.784249</td>\n",
       "      <td>1.0</td>\n",
       "      <td>25.0</td>\n",
       "    </tr>\n",
       "  </tbody>\n",
       "</table>\n",
       "</div>"
      ],
      "text/plain": [
       "                                    prices           \n",
       "                                      mean  min   max\n",
       "fam_status                                           \n",
       "divorced/widowed                  7.800975  1.0  25.0\n",
       "living with parents and siblings  7.800712  1.0  25.0\n",
       "married                           7.790695  1.0  25.0\n",
       "single                            7.784249  1.0  25.0"
      ]
     },
     "execution_count": 74,
     "metadata": {},
     "output_type": "execute_result"
    }
   ],
   "source": [
    "# fam status and spending\n",
    "ic_data.groupby('fam_status').agg({'prices': ['mean', 'min', 'max']})"
   ]
  },
  {
   "cell_type": "code",
   "execution_count": 75,
   "id": "89c3f1f3",
   "metadata": {},
   "outputs": [
    {
     "data": {
      "text/html": [
       "<div>\n",
       "<style scoped>\n",
       "    .dataframe tbody tr th:only-of-type {\n",
       "        vertical-align: middle;\n",
       "    }\n",
       "\n",
       "    .dataframe tbody tr th {\n",
       "        vertical-align: top;\n",
       "    }\n",
       "\n",
       "    .dataframe thead tr th {\n",
       "        text-align: left;\n",
       "    }\n",
       "\n",
       "    .dataframe thead tr:last-of-type th {\n",
       "        text-align: right;\n",
       "    }\n",
       "</style>\n",
       "<table border=\"1\" class=\"dataframe\">\n",
       "  <thead>\n",
       "    <tr>\n",
       "      <th></th>\n",
       "      <th colspan=\"3\" halign=\"left\">days_since_prior_order</th>\n",
       "    </tr>\n",
       "    <tr>\n",
       "      <th></th>\n",
       "      <th>mean</th>\n",
       "      <th>min</th>\n",
       "      <th>max</th>\n",
       "    </tr>\n",
       "    <tr>\n",
       "      <th>age_group</th>\n",
       "      <th></th>\n",
       "      <th></th>\n",
       "      <th></th>\n",
       "    </tr>\n",
       "  </thead>\n",
       "  <tbody>\n",
       "    <tr>\n",
       "      <th>Middle Age</th>\n",
       "      <td>11.109019</td>\n",
       "      <td>0.0</td>\n",
       "      <td>30.0</td>\n",
       "    </tr>\n",
       "    <tr>\n",
       "      <th>Senior</th>\n",
       "      <td>11.078983</td>\n",
       "      <td>0.0</td>\n",
       "      <td>30.0</td>\n",
       "    </tr>\n",
       "    <tr>\n",
       "      <th>Young Adult</th>\n",
       "      <td>11.120526</td>\n",
       "      <td>0.0</td>\n",
       "      <td>30.0</td>\n",
       "    </tr>\n",
       "  </tbody>\n",
       "</table>\n",
       "</div>"
      ],
      "text/plain": [
       "            days_since_prior_order           \n",
       "                              mean  min   max\n",
       "age_group                                    \n",
       "Middle Age               11.109019  0.0  30.0\n",
       "Senior                   11.078983  0.0  30.0\n",
       "Young Adult              11.120526  0.0  30.0"
      ]
     },
     "execution_count": 75,
     "metadata": {},
     "output_type": "execute_result"
    }
   ],
   "source": [
    "# age and frequency\n",
    "ic_data.groupby('age_group').agg({'days_since_prior_order': ['mean', 'min', 'max']})"
   ]
  },
  {
   "cell_type": "code",
   "execution_count": 77,
   "id": "327c17bb",
   "metadata": {},
   "outputs": [
    {
     "data": {
      "text/html": [
       "<div>\n",
       "<style scoped>\n",
       "    .dataframe tbody tr th:only-of-type {\n",
       "        vertical-align: middle;\n",
       "    }\n",
       "\n",
       "    .dataframe tbody tr th {\n",
       "        vertical-align: top;\n",
       "    }\n",
       "\n",
       "    .dataframe thead tr th {\n",
       "        text-align: left;\n",
       "    }\n",
       "\n",
       "    .dataframe thead tr:last-of-type th {\n",
       "        text-align: right;\n",
       "    }\n",
       "</style>\n",
       "<table border=\"1\" class=\"dataframe\">\n",
       "  <thead>\n",
       "    <tr>\n",
       "      <th></th>\n",
       "      <th colspan=\"3\" halign=\"left\">days_since_prior_order</th>\n",
       "    </tr>\n",
       "    <tr>\n",
       "      <th></th>\n",
       "      <th>mean</th>\n",
       "      <th>min</th>\n",
       "      <th>max</th>\n",
       "    </tr>\n",
       "    <tr>\n",
       "      <th>income_bracket</th>\n",
       "      <th></th>\n",
       "      <th></th>\n",
       "      <th></th>\n",
       "    </tr>\n",
       "  </thead>\n",
       "  <tbody>\n",
       "    <tr>\n",
       "      <th>Higher income</th>\n",
       "      <td>11.024041</td>\n",
       "      <td>0.0</td>\n",
       "      <td>30.0</td>\n",
       "    </tr>\n",
       "    <tr>\n",
       "      <th>Lower income</th>\n",
       "      <td>11.282190</td>\n",
       "      <td>0.0</td>\n",
       "      <td>30.0</td>\n",
       "    </tr>\n",
       "    <tr>\n",
       "      <th>Middle income</th>\n",
       "      <td>11.043046</td>\n",
       "      <td>0.0</td>\n",
       "      <td>30.0</td>\n",
       "    </tr>\n",
       "  </tbody>\n",
       "</table>\n",
       "</div>"
      ],
      "text/plain": [
       "               days_since_prior_order           \n",
       "                                 mean  min   max\n",
       "income_bracket                                  \n",
       "Higher income               11.024041  0.0  30.0\n",
       "Lower income                11.282190  0.0  30.0\n",
       "Middle income               11.043046  0.0  30.0"
      ]
     },
     "execution_count": 77,
     "metadata": {},
     "output_type": "execute_result"
    }
   ],
   "source": [
    "# income and frequency\n",
    "ic_data.groupby('income_bracket').agg({'days_since_prior_order': ['mean', 'min', 'max']})"
   ]
  },
  {
   "cell_type": "code",
   "execution_count": 79,
   "id": "6571e0b2",
   "metadata": {},
   "outputs": [
    {
     "data": {
      "text/html": [
       "<div>\n",
       "<style scoped>\n",
       "    .dataframe tbody tr th:only-of-type {\n",
       "        vertical-align: middle;\n",
       "    }\n",
       "\n",
       "    .dataframe tbody tr th {\n",
       "        vertical-align: top;\n",
       "    }\n",
       "\n",
       "    .dataframe thead tr th {\n",
       "        text-align: left;\n",
       "    }\n",
       "\n",
       "    .dataframe thead tr:last-of-type th {\n",
       "        text-align: right;\n",
       "    }\n",
       "</style>\n",
       "<table border=\"1\" class=\"dataframe\">\n",
       "  <thead>\n",
       "    <tr>\n",
       "      <th></th>\n",
       "      <th colspan=\"3\" halign=\"left\">days_since_prior_order</th>\n",
       "    </tr>\n",
       "    <tr>\n",
       "      <th></th>\n",
       "      <th>mean</th>\n",
       "      <th>min</th>\n",
       "      <th>max</th>\n",
       "    </tr>\n",
       "    <tr>\n",
       "      <th>dependants</th>\n",
       "      <th></th>\n",
       "      <th></th>\n",
       "      <th></th>\n",
       "    </tr>\n",
       "  </thead>\n",
       "  <tbody>\n",
       "    <tr>\n",
       "      <th>Has Dependants</th>\n",
       "      <td>11.111977</td>\n",
       "      <td>0.0</td>\n",
       "      <td>30.0</td>\n",
       "    </tr>\n",
       "    <tr>\n",
       "      <th>No Dependants</th>\n",
       "      <td>11.080597</td>\n",
       "      <td>0.0</td>\n",
       "      <td>30.0</td>\n",
       "    </tr>\n",
       "  </tbody>\n",
       "</table>\n",
       "</div>"
      ],
      "text/plain": [
       "               days_since_prior_order           \n",
       "                                 mean  min   max\n",
       "dependants                                      \n",
       "Has Dependants              11.111977  0.0  30.0\n",
       "No Dependants               11.080597  0.0  30.0"
      ]
     },
     "execution_count": 79,
     "metadata": {},
     "output_type": "execute_result"
    }
   ],
   "source": [
    "# dependants and frequency\n",
    "ic_data.groupby('dependants').agg({'days_since_prior_order': ['mean', 'min', 'max']})"
   ]
  },
  {
   "cell_type": "code",
   "execution_count": 80,
   "id": "5715e657",
   "metadata": {},
   "outputs": [
    {
     "data": {
      "text/html": [
       "<div>\n",
       "<style scoped>\n",
       "    .dataframe tbody tr th:only-of-type {\n",
       "        vertical-align: middle;\n",
       "    }\n",
       "\n",
       "    .dataframe tbody tr th {\n",
       "        vertical-align: top;\n",
       "    }\n",
       "\n",
       "    .dataframe thead tr th {\n",
       "        text-align: left;\n",
       "    }\n",
       "\n",
       "    .dataframe thead tr:last-of-type th {\n",
       "        text-align: right;\n",
       "    }\n",
       "</style>\n",
       "<table border=\"1\" class=\"dataframe\">\n",
       "  <thead>\n",
       "    <tr>\n",
       "      <th></th>\n",
       "      <th colspan=\"3\" halign=\"left\">days_since_prior_order</th>\n",
       "    </tr>\n",
       "    <tr>\n",
       "      <th></th>\n",
       "      <th>mean</th>\n",
       "      <th>min</th>\n",
       "      <th>max</th>\n",
       "    </tr>\n",
       "    <tr>\n",
       "      <th>fam_status</th>\n",
       "      <th></th>\n",
       "      <th></th>\n",
       "      <th></th>\n",
       "    </tr>\n",
       "  </thead>\n",
       "  <tbody>\n",
       "    <tr>\n",
       "      <th>divorced/widowed</th>\n",
       "      <td>11.048043</td>\n",
       "      <td>0.0</td>\n",
       "      <td>30.0</td>\n",
       "    </tr>\n",
       "    <tr>\n",
       "      <th>living with parents and siblings</th>\n",
       "      <td>11.047913</td>\n",
       "      <td>0.0</td>\n",
       "      <td>30.0</td>\n",
       "    </tr>\n",
       "    <tr>\n",
       "      <th>married</th>\n",
       "      <td>11.116346</td>\n",
       "      <td>0.0</td>\n",
       "      <td>30.0</td>\n",
       "    </tr>\n",
       "    <tr>\n",
       "      <th>single</th>\n",
       "      <td>11.097539</td>\n",
       "      <td>0.0</td>\n",
       "      <td>30.0</td>\n",
       "    </tr>\n",
       "  </tbody>\n",
       "</table>\n",
       "</div>"
      ],
      "text/plain": [
       "                                 days_since_prior_order           \n",
       "                                                   mean  min   max\n",
       "fam_status                                                        \n",
       "divorced/widowed                              11.048043  0.0  30.0\n",
       "living with parents and siblings              11.047913  0.0  30.0\n",
       "married                                       11.116346  0.0  30.0\n",
       "single                                        11.097539  0.0  30.0"
      ]
     },
     "execution_count": 80,
     "metadata": {},
     "output_type": "execute_result"
    }
   ],
   "source": [
    "# fam status and frequency\n",
    "ic_data.groupby('fam_status').agg({'days_since_prior_order': ['mean', 'min', 'max']})"
   ]
  },
  {
   "cell_type": "markdown",
   "id": "3bf036c3",
   "metadata": {},
   "source": [
    "### Step 8"
   ]
  },
  {
   "cell_type": "markdown",
   "id": "1ce7bd59",
   "metadata": {},
   "source": [
    "### Regional Data"
   ]
  },
  {
   "cell_type": "code",
   "execution_count": 81,
   "id": "ea1b279d",
   "metadata": {},
   "outputs": [],
   "source": [
    "# grouping region and ages\n",
    "region_age_counts = ic_data.groupby(['Region','age_group']).size().unstack(fill_value=0)"
   ]
  },
  {
   "cell_type": "code",
   "execution_count": 82,
   "id": "6dded58b",
   "metadata": {},
   "outputs": [
    {
     "data": {
      "image/png": "[encoded data removed]",
      "text/plain": [
       "<Figure size 640x480 with 1 Axes>"
      ]
     },
     "metadata": {},
     "output_type": "display_data"
    }
   ],
   "source": [
    "# bar chart for region and ages\n",
    "region_age = region_age_counts.sort_index().plot.bar(stacked=True )"
   ]
  },
  {
   "cell_type": "code",
   "execution_count": 83,
   "id": "0202e3ac",
   "metadata": {},
   "outputs": [],
   "source": [
    "# exporting region and age bar chart\n",
    "region_age.figure.savefig(os.path.join(path, 'Analysis','Visualizations', 'bar_region_age.png'))"
   ]
  },
  {
   "cell_type": "code",
   "execution_count": 84,
   "id": "15a87560",
   "metadata": {},
   "outputs": [],
   "source": [
    "# grouping fam status and region\n",
    "fam_region_counts = ic_data.groupby(['Region','fam_status']).size().unstack(fill_value=0)"
   ]
  },
  {
   "cell_type": "code",
   "execution_count": 85,
   "id": "c3d16f56",
   "metadata": {},
   "outputs": [
    {
     "data": {
      "image/png": "[encoded data removed]",
      "text/plain": [
       "<Figure size 640x480 with 1 Axes>"
      ]
     },
     "metadata": {},
     "output_type": "display_data"
    }
   ],
   "source": [
    "# bar chart for fam status and region\n",
    "bar_fam_region = fam_region_counts.sort_index().plot.bar(stacked=True)"
   ]
  },
  {
   "cell_type": "code",
   "execution_count": 86,
   "id": "b914608c",
   "metadata": {},
   "outputs": [],
   "source": [
    "# exporting fam status region chart\n",
    "bar_fam_region.figure.savefig(os.path.join(path, 'Analysis','Visualizations', 'bar_fam_region.png'))"
   ]
  },
  {
   "cell_type": "code",
   "execution_count": 89,
   "id": "67851ee4",
   "metadata": {},
   "outputs": [],
   "source": [
    "# grouping region and income\n",
    "region_income_counts = ic_data.groupby(['Region','income_bracket']).size().unstack(fill_value=0)"
   ]
  },
  {
   "cell_type": "code",
   "execution_count": 90,
   "id": "7785d5cf",
   "metadata": {},
   "outputs": [
    {
     "data": {
      "image/png": "[encoded data removed]",
      "text/plain": [
       "<Figure size 640x480 with 1 Axes>"
      ]
     },
     "metadata": {},
     "output_type": "display_data"
    }
   ],
   "source": [
    "# bar chart for region and income\n",
    "bar_region_income = region_income_counts.sort_index().plot.bar(stacked=True)"
   ]
  },
  {
   "cell_type": "code",
   "execution_count": 91,
   "id": "5286a1b5",
   "metadata": {},
   "outputs": [],
   "source": [
    "# exporting bar chart\n",
    "bar_region_income.figure.savefig(os.path.join(path, 'Analysis', 'Visualizations', 'bar_region_income.png'))"
   ]
  },
  {
   "cell_type": "code",
   "execution_count": 92,
   "id": "ca170981",
   "metadata": {},
   "outputs": [],
   "source": [
    "# grouping for region and dependants\n",
    "region_depend_counts = ic_data.groupby(['Region', 'dependants']).size().unstack(fill_value=0)"
   ]
  },
  {
   "cell_type": "code",
   "execution_count": 93,
   "id": "8112899d",
   "metadata": {},
   "outputs": [
    {
     "data": {
      "image/png": "[encoded data removed]",
      "text/plain": [
       "<Figure size 640x480 with 1 Axes>"
      ]
     },
     "metadata": {},
     "output_type": "display_data"
    }
   ],
   "source": [
    "# bar chart for region and dependants\n",
    "bar_region_depend = region_depend_counts.sort_index().plot.bar(stacked=True)"
   ]
  },
  {
   "cell_type": "code",
   "execution_count": 94,
   "id": "167c417f",
   "metadata": {},
   "outputs": [],
   "source": [
    "# exporting bar chart\n",
    "bar_region_depend.figure.savefig(os.path.join(path, 'Analysis', 'Visualizations', 'bar_region_dependants.png'))"
   ]
  },
  {
   "cell_type": "code",
   "execution_count": 96,
   "id": "42af345a",
   "metadata": {},
   "outputs": [],
   "source": [
    "# exporting data\n",
    "ic_data.to_pickle(os.path.join(path, 'Data','Prepared', 'ic_data_final.pkl'))"
   ]
  },
  {
   "cell_type": "code",
   "execution_count": null,
   "id": "c4205ff5",
   "metadata": {},
   "outputs": [],
   "source": []
  }
 ],
 "metadata": {
  "kernelspec": {
   "display_name": "Python 3 (ipykernel)",
   "language": "python",
   "name": "python3"
  },
  "language_info": {
   "codemirror_mode": {
    "name": "ipython",
    "version": 3
   },
   "file_extension": ".py",
   "mimetype": "text/x-python",
   "name": "python",
   "nbconvert_exporter": "python",
   "pygments_lexer": "ipython3",
   "version": "3.10.9"
  }
 },
 "nbformat": 4,
 "nbformat_minor": 5
}
