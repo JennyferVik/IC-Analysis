{
 "cells": [
  {
   "cell_type": "markdown",
   "id": "f93fa77e",
   "metadata": {},
   "source": [
    "#Importing Libraries"
   ]
  },
  {
   "cell_type": "code",
   "execution_count": 1,
   "id": "d7d2eabe",
   "metadata": {},
   "outputs": [],
   "source": [
    "#import libraries\n",
    "import pandas as pd\n",
    "import numpy as np\n",
    "import os"
   ]
  },
  {
   "cell_type": "markdown",
   "id": "3c469d79",
   "metadata": {},
   "source": [
    "#Python data types"
   ]
  },
  {
   "cell_type": "markdown",
   "id": "735a6536",
   "metadata": {},
   "source": [
    "#Numeric"
   ]
  },
  {
   "cell_type": "code",
   "execution_count": 2,
   "id": "ae2e630d",
   "metadata": {},
   "outputs": [],
   "source": [
    "x = 50"
   ]
  },
  {
   "cell_type": "code",
   "execution_count": 3,
   "id": "e313b2a4",
   "metadata": {},
   "outputs": [],
   "source": [
    "y = 150"
   ]
  },
  {
   "cell_type": "code",
   "execution_count": 4,
   "id": "fb30f22a",
   "metadata": {},
   "outputs": [
    {
     "data": {
      "text/plain": [
       "100"
      ]
     },
     "execution_count": 4,
     "metadata": {},
     "output_type": "execute_result"
    }
   ],
   "source": [
    "y - x"
   ]
  },
  {
   "cell_type": "code",
   "execution_count": 5,
   "id": "2a39b03f",
   "metadata": {},
   "outputs": [],
   "source": [
    "z = 55"
   ]
  },
  {
   "cell_type": "code",
   "execution_count": 6,
   "id": "9fb169bb",
   "metadata": {},
   "outputs": [],
   "source": [
    "w = 5"
   ]
  },
  {
   "cell_type": "code",
   "execution_count": 7,
   "id": "02e53985",
   "metadata": {},
   "outputs": [
    {
     "data": {
      "text/plain": [
       "100"
      ]
     },
     "execution_count": 7,
     "metadata": {},
     "output_type": "execute_result"
    }
   ],
   "source": [
    "x + z - w"
   ]
  },
  {
   "cell_type": "code",
   "execution_count": 8,
   "id": "13096958",
   "metadata": {},
   "outputs": [
    {
     "data": {
      "text/plain": [
       "100"
      ]
     },
     "execution_count": 8,
     "metadata": {},
     "output_type": "execute_result"
    }
   ],
   "source": [
    "x + x"
   ]
  },
  {
   "cell_type": "markdown",
   "id": "85833553",
   "metadata": {},
   "source": [
    "#Floating_point"
   ]
  },
  {
   "cell_type": "code",
   "execution_count": 9,
   "id": "41e98eac",
   "metadata": {},
   "outputs": [],
   "source": [
    "q = 2.5"
   ]
  },
  {
   "cell_type": "code",
   "execution_count": 10,
   "id": "7e7d2e4b",
   "metadata": {},
   "outputs": [],
   "source": [
    "v = 100.456"
   ]
  },
  {
   "cell_type": "code",
   "execution_count": 11,
   "id": "e459e7a3",
   "metadata": {},
   "outputs": [
    {
     "data": {
      "text/plain": [
       "40.1824"
      ]
     },
     "execution_count": 11,
     "metadata": {},
     "output_type": "execute_result"
    }
   ],
   "source": [
    "v/q"
   ]
  },
  {
   "cell_type": "markdown",
   "id": "d34b77b3",
   "metadata": {},
   "source": [
    "#String"
   ]
  },
  {
   "cell_type": "code",
   "execution_count": 12,
   "id": "070955b6",
   "metadata": {},
   "outputs": [],
   "source": [
    "h='hot'"
   ]
  },
  {
   "cell_type": "code",
   "execution_count": 13,
   "id": "ca045dcf",
   "metadata": {},
   "outputs": [],
   "source": [
    "d='dog'"
   ]
  },
  {
   "cell_type": "code",
   "execution_count": 14,
   "id": "b9abeb7e",
   "metadata": {},
   "outputs": [
    {
     "data": {
      "text/plain": [
       "'hotdog'"
      ]
     },
     "execution_count": 14,
     "metadata": {},
     "output_type": "execute_result"
    }
   ],
   "source": [
    "h+d"
   ]
  },
  {
   "cell_type": "code",
   "execution_count": 17,
   "id": "46546d38",
   "metadata": {},
   "outputs": [],
   "source": [
    "c='charlotte '"
   ]
  },
  {
   "cell_type": "code",
   "execution_count": 18,
   "id": "8fe2d754",
   "metadata": {},
   "outputs": [],
   "source": [
    "l='loves '"
   ]
  },
  {
   "cell_type": "code",
   "execution_count": 19,
   "id": "d0ae7214",
   "metadata": {},
   "outputs": [
    {
     "data": {
      "text/plain": [
       "'hotdogcharlotte loves '"
      ]
     },
     "execution_count": 19,
     "metadata": {},
     "output_type": "execute_result"
    }
   ],
   "source": [
    "h+d+c+l"
   ]
  },
  {
   "cell_type": "code",
   "execution_count": 20,
   "id": "b4e2349f",
   "metadata": {},
   "outputs": [
    {
     "data": {
      "text/plain": [
       "'charlotte loves hotdog'"
      ]
     },
     "execution_count": 20,
     "metadata": {},
     "output_type": "execute_result"
    }
   ],
   "source": [
    "c+l+h+d"
   ]
  },
  {
   "cell_type": "code",
   "execution_count": 21,
   "id": "b3132fe6",
   "metadata": {},
   "outputs": [],
   "source": [
    "i='is '"
   ]
  },
  {
   "cell_type": "code",
   "execution_count": 22,
   "id": "c0ed420b",
   "metadata": {},
   "outputs": [],
   "source": [
    "m='my '"
   ]
  },
  {
   "cell_type": "code",
   "execution_count": 23,
   "id": "76f0c470",
   "metadata": {},
   "outputs": [
    {
     "data": {
      "text/plain": [
       "'charlotte is my dog'"
      ]
     },
     "execution_count": 23,
     "metadata": {},
     "output_type": "execute_result"
    }
   ],
   "source": [
    "c+i+m+d"
   ]
  },
  {
   "cell_type": "code",
   "execution_count": 27,
   "id": "e904d98f",
   "metadata": {},
   "outputs": [
    {
     "data": {
      "text/plain": [
       "'charlotte is my dogcharlotte is my dogcharlotte is my dogcharlotte is my dogcharlotte is my dogcharlotte is my dogcharlotte is my dogcharlotte is my dogcharlotte is my dogcharlotte is my dogcharlotte is my dogcharlotte is my dogcharlotte is my dogcharlotte is my dogcharlotte is my dogcharlotte is my dogcharlotte is my dogcharlotte is my dogcharlotte is my dogcharlotte is my dogcharlotte is my dogcharlotte is my dogcharlotte is my dogcharlotte is my dogcharlotte is my dogcharlotte is my dogcharlotte is my dogcharlotte is my dogcharlotte is my dogcharlotte is my dogcharlotte is my dogcharlotte is my dogcharlotte is my dogcharlotte is my dogcharlotte is my dogcharlotte is my dogcharlotte is my dogcharlotte is my dogcharlotte is my dogcharlotte is my dogcharlotte is my dogcharlotte is my dogcharlotte is my dogcharlotte is my dogcharlotte is my dogcharlotte is my dogcharlotte is my dogcharlotte is my dogcharlotte is my dogcharlotte is my dogcharlotte is my dogcharlotte is my dogcharlotte is my dogcharlotte is my dogcharlotte is my dogcharlotte is my dogcharlotte is my dogcharlotte is my dogcharlotte is my dogcharlotte is my dogcharlotte is my dogcharlotte is my dogcharlotte is my dogcharlotte is my dogcharlotte is my dogcharlotte is my dogcharlotte is my dogcharlotte is my dogcharlotte is my dogcharlotte is my dogcharlotte is my dogcharlotte is my dogcharlotte is my dogcharlotte is my dogcharlotte is my dogcharlotte is my dogcharlotte is my dogcharlotte is my dogcharlotte is my dogcharlotte is my dogcharlotte is my dogcharlotte is my dogcharlotte is my dogcharlotte is my dogcharlotte is my dogcharlotte is my dogcharlotte is my dogcharlotte is my dogcharlotte is my dogcharlotte is my dogcharlotte is my dogcharlotte is my dogcharlotte is my dogcharlotte is my dogcharlotte is my dogcharlotte is my dogcharlotte is my dogcharlotte is my dogcharlotte is my dogcharlotte is my dog'"
      ]
     },
     "execution_count": 27,
     "metadata": {},
     "output_type": "execute_result"
    }
   ],
   "source": [
    "(c+i+m+d)*100"
   ]
  },
  {
   "cell_type": "code",
   "execution_count": null,
   "id": "c09b15c5",
   "metadata": {},
   "outputs": [],
   "source": []
  }
 ],
 "metadata": {
  "kernelspec": {
   "display_name": "Python 3 (ipykernel)",
   "language": "python",
   "name": "python3"
  },
  "language_info": {
   "codemirror_mode": {
    "name": "ipython",
    "version": 3
   },
   "file_extension": ".py",
   "mimetype": "text/x-python",
   "name": "python",
   "nbconvert_exporter": "python",
   "pygments_lexer": "ipython3",
   "version": "3.10.9"
  }
 },
 "nbformat": 4,
 "nbformat_minor": 5
}
