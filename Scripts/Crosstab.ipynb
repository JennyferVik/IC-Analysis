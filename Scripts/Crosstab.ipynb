{
 "cells": [
  {
   "cell_type": "markdown",
   "id": "5042cf3f",
   "metadata": {},
   "source": [
    "### Importing libraries and data"
   ]
  },
  {
   "cell_type": "code",
   "execution_count": 1,
   "id": "de83ad18",
   "metadata": {},
   "outputs": [],
   "source": [
    "# libraries\n",
    "import pandas as pd\n",
    "import numpy as np\n",
    "import os"
   ]
  },
  {
   "cell_type": "code",
   "execution_count": 2,
   "id": "2cb4508f",
   "metadata": {},
   "outputs": [],
   "source": [
    "# data\n",
    "path = r'/Users/jennyfevik/Desktop/IC Basket Analysis'"
   ]
  },
  {
   "cell_type": "code",
   "execution_count": 4,
   "id": "79c8894f",
   "metadata": {},
   "outputs": [],
   "source": [
    "ic_data = pd.read_pickle(os.path.join(path, 'Data', 'Prepared', 'ic_data.pkl'))"
   ]
  },
  {
   "cell_type": "code",
   "execution_count": 5,
   "id": "5acddf82",
   "metadata": {},
   "outputs": [],
   "source": [
    "# crosstab code\n",
    "crosstab = pd.crosstab(ic_data['days_since_prior_order'], ic_data['order_number'], dropna = False)"
   ]
  },
  {
   "cell_type": "code",
   "execution_count": 6,
   "id": "9866835f",
   "metadata": {},
   "outputs": [],
   "source": [
    "# Copy to clipboard\n",
    "crosstab.to_clipboard()"
   ]
  },
  {
   "cell_type": "code",
   "execution_count": null,
   "id": "b7228ccc",
   "metadata": {},
   "outputs": [],
   "source": []
  }
 ],
 "metadata": {
  "kernelspec": {
   "display_name": "Python 3 (ipykernel)",
   "language": "python",
   "name": "python3"
  },
  "language_info": {
   "codemirror_mode": {
    "name": "ipython",
    "version": 3
   },
   "file_extension": ".py",
   "mimetype": "text/x-python",
   "name": "python",
   "nbconvert_exporter": "python",
   "pygments_lexer": "ipython3",
   "version": "3.10.9"
  }
 },
 "nbformat": 4,
 "nbformat_minor": 5
}
